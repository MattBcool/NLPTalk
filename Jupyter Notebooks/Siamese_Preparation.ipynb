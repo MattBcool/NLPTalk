{
  "cells": [
    {
      "cell_type": "markdown",
      "id": "66ca652a",
      "metadata": {
        "id": "66ca652a"
      },
      "source": [
        "## Data Importing"
      ]
    },
    {
      "cell_type": "code",
      "execution_count": 4,
      "id": "8f7161c6",
      "metadata": {
        "id": "8f7161c6"
      },
      "outputs": [],
      "source": [
        "import pandas as pd\n",
        "import numpy as np\n",
        "import matplotlib.pyplot as plt\n",
        "import seaborn as sns"
      ]
    },
    {
      "cell_type": "code",
      "execution_count": 5,
      "id": "1cb2df34",
      "metadata": {
        "id": "1cb2df34"
      },
      "outputs": [],
      "source": [
        "data = pd.read_csv('EtownQAData.csv', )"
      ]
    },
    {
      "cell_type": "code",
      "execution_count": 6,
      "id": "40802958",
      "metadata": {
        "colab": {
          "base_uri": "https://localhost:8080/",
          "height": 206
        },
        "id": "40802958",
        "outputId": "f95d99d2-9d7e-477d-bb62-2e3bde0f4d0f"
      },
      "outputs": [
        {
          "output_type": "execute_result",
          "data": {
            "text/plain": [
              "                                            Question  \\\n",
              "0       When was Elizabethtown College first opened?   \n",
              "1                             When was Etown opened?   \n",
              "2      Who originally founded Elizabethtown College?   \n",
              "3                                 Who founded Etown?   \n",
              "4  When was Elizabethtown College originally foun...   \n",
              "\n",
              "                              Answer  Class  \\\n",
              "0                               1899      1   \n",
              "1                               1899      1   \n",
              "2  Reverend Jacob G. Francis in 1899      1   \n",
              "3  Reverend Jacob G. Francis in 1899      1   \n",
              "4                               1899      1   \n",
              "\n",
              "                                         Long_Answer  \n",
              "0                    Etown was first opened in 1899.  \n",
              "1                          Etown was opened in 1899.  \n",
              "2  Etown was founded by Reverend Jacob G. Francis...  \n",
              "3   Reverend Jacob G. Francis founded Etown in 1899.  \n",
              "4                         Etown was founded in 1899.  "
            ],
            "text/html": [
              "\n",
              "  <div id=\"df-e3d1ac0c-0adc-4484-a9e8-1d3a5fa406ed\">\n",
              "    <div class=\"colab-df-container\">\n",
              "      <div>\n",
              "<style scoped>\n",
              "    .dataframe tbody tr th:only-of-type {\n",
              "        vertical-align: middle;\n",
              "    }\n",
              "\n",
              "    .dataframe tbody tr th {\n",
              "        vertical-align: top;\n",
              "    }\n",
              "\n",
              "    .dataframe thead th {\n",
              "        text-align: right;\n",
              "    }\n",
              "</style>\n",
              "<table border=\"1\" class=\"dataframe\">\n",
              "  <thead>\n",
              "    <tr style=\"text-align: right;\">\n",
              "      <th></th>\n",
              "      <th>Question</th>\n",
              "      <th>Answer</th>\n",
              "      <th>Class</th>\n",
              "      <th>Long_Answer</th>\n",
              "    </tr>\n",
              "  </thead>\n",
              "  <tbody>\n",
              "    <tr>\n",
              "      <th>0</th>\n",
              "      <td>When was Elizabethtown College first opened?</td>\n",
              "      <td>1899</td>\n",
              "      <td>1</td>\n",
              "      <td>Etown was first opened in 1899.</td>\n",
              "    </tr>\n",
              "    <tr>\n",
              "      <th>1</th>\n",
              "      <td>When was Etown opened?</td>\n",
              "      <td>1899</td>\n",
              "      <td>1</td>\n",
              "      <td>Etown was opened in 1899.</td>\n",
              "    </tr>\n",
              "    <tr>\n",
              "      <th>2</th>\n",
              "      <td>Who originally founded Elizabethtown College?</td>\n",
              "      <td>Reverend Jacob G. Francis in 1899</td>\n",
              "      <td>1</td>\n",
              "      <td>Etown was founded by Reverend Jacob G. Francis...</td>\n",
              "    </tr>\n",
              "    <tr>\n",
              "      <th>3</th>\n",
              "      <td>Who founded Etown?</td>\n",
              "      <td>Reverend Jacob G. Francis in 1899</td>\n",
              "      <td>1</td>\n",
              "      <td>Reverend Jacob G. Francis founded Etown in 1899.</td>\n",
              "    </tr>\n",
              "    <tr>\n",
              "      <th>4</th>\n",
              "      <td>When was Elizabethtown College originally foun...</td>\n",
              "      <td>1899</td>\n",
              "      <td>1</td>\n",
              "      <td>Etown was founded in 1899.</td>\n",
              "    </tr>\n",
              "  </tbody>\n",
              "</table>\n",
              "</div>\n",
              "      <button class=\"colab-df-convert\" onclick=\"convertToInteractive('df-e3d1ac0c-0adc-4484-a9e8-1d3a5fa406ed')\"\n",
              "              title=\"Convert this dataframe to an interactive table.\"\n",
              "              style=\"display:none;\">\n",
              "        \n",
              "  <svg xmlns=\"http://www.w3.org/2000/svg\" height=\"24px\"viewBox=\"0 0 24 24\"\n",
              "       width=\"24px\">\n",
              "    <path d=\"M0 0h24v24H0V0z\" fill=\"none\"/>\n",
              "    <path d=\"M18.56 5.44l.94 2.06.94-2.06 2.06-.94-2.06-.94-.94-2.06-.94 2.06-2.06.94zm-11 1L8.5 8.5l.94-2.06 2.06-.94-2.06-.94L8.5 2.5l-.94 2.06-2.06.94zm10 10l.94 2.06.94-2.06 2.06-.94-2.06-.94-.94-2.06-.94 2.06-2.06.94z\"/><path d=\"M17.41 7.96l-1.37-1.37c-.4-.4-.92-.59-1.43-.59-.52 0-1.04.2-1.43.59L10.3 9.45l-7.72 7.72c-.78.78-.78 2.05 0 2.83L4 21.41c.39.39.9.59 1.41.59.51 0 1.02-.2 1.41-.59l7.78-7.78 2.81-2.81c.8-.78.8-2.07 0-2.86zM5.41 20L4 18.59l7.72-7.72 1.47 1.35L5.41 20z\"/>\n",
              "  </svg>\n",
              "      </button>\n",
              "      \n",
              "  <style>\n",
              "    .colab-df-container {\n",
              "      display:flex;\n",
              "      flex-wrap:wrap;\n",
              "      gap: 12px;\n",
              "    }\n",
              "\n",
              "    .colab-df-convert {\n",
              "      background-color: #E8F0FE;\n",
              "      border: none;\n",
              "      border-radius: 50%;\n",
              "      cursor: pointer;\n",
              "      display: none;\n",
              "      fill: #1967D2;\n",
              "      height: 32px;\n",
              "      padding: 0 0 0 0;\n",
              "      width: 32px;\n",
              "    }\n",
              "\n",
              "    .colab-df-convert:hover {\n",
              "      background-color: #E2EBFA;\n",
              "      box-shadow: 0px 1px 2px rgba(60, 64, 67, 0.3), 0px 1px 3px 1px rgba(60, 64, 67, 0.15);\n",
              "      fill: #174EA6;\n",
              "    }\n",
              "\n",
              "    [theme=dark] .colab-df-convert {\n",
              "      background-color: #3B4455;\n",
              "      fill: #D2E3FC;\n",
              "    }\n",
              "\n",
              "    [theme=dark] .colab-df-convert:hover {\n",
              "      background-color: #434B5C;\n",
              "      box-shadow: 0px 1px 3px 1px rgba(0, 0, 0, 0.15);\n",
              "      filter: drop-shadow(0px 1px 2px rgba(0, 0, 0, 0.3));\n",
              "      fill: #FFFFFF;\n",
              "    }\n",
              "  </style>\n",
              "\n",
              "      <script>\n",
              "        const buttonEl =\n",
              "          document.querySelector('#df-e3d1ac0c-0adc-4484-a9e8-1d3a5fa406ed button.colab-df-convert');\n",
              "        buttonEl.style.display =\n",
              "          google.colab.kernel.accessAllowed ? 'block' : 'none';\n",
              "\n",
              "        async function convertToInteractive(key) {\n",
              "          const element = document.querySelector('#df-e3d1ac0c-0adc-4484-a9e8-1d3a5fa406ed');\n",
              "          const dataTable =\n",
              "            await google.colab.kernel.invokeFunction('convertToInteractive',\n",
              "                                                     [key], {});\n",
              "          if (!dataTable) return;\n",
              "\n",
              "          const docLinkHtml = 'Like what you see? Visit the ' +\n",
              "            '<a target=\"_blank\" href=https://colab.research.google.com/notebooks/data_table.ipynb>data table notebook</a>'\n",
              "            + ' to learn more about interactive tables.';\n",
              "          element.innerHTML = '';\n",
              "          dataTable['output_type'] = 'display_data';\n",
              "          await google.colab.output.renderOutput(dataTable, element);\n",
              "          const docLink = document.createElement('div');\n",
              "          docLink.innerHTML = docLinkHtml;\n",
              "          element.appendChild(docLink);\n",
              "        }\n",
              "      </script>\n",
              "    </div>\n",
              "  </div>\n",
              "  "
            ]
          },
          "metadata": {},
          "execution_count": 6
        }
      ],
      "source": [
        "data.head()"
      ]
    },
    {
      "cell_type": "markdown",
      "id": "d94221c8",
      "metadata": {
        "id": "d94221c8"
      },
      "source": [
        "## Data Cleaning"
      ]
    },
    {
      "cell_type": "code",
      "execution_count": 7,
      "id": "6e508eb8",
      "metadata": {
        "id": "6e508eb8"
      },
      "outputs": [],
      "source": [
        "import re\n",
        "import string"
      ]
    },
    {
      "cell_type": "code",
      "execution_count": 8,
      "id": "65a81977",
      "metadata": {
        "id": "65a81977"
      },
      "outputs": [],
      "source": [
        "def clean_text(text):\n",
        "    '''\n",
        "    Make text lowercase, \n",
        "    remove text in square brackets, \n",
        "    remove punctuation and \n",
        "    remove words containing numbers.\n",
        "    '''\n",
        "    text = text.lower()\n",
        "    text = re.sub('\\[.*?\\]', '', text) \n",
        "    text = re.sub('[%s]' % re.escape(string.punctuation), '', text)\n",
        "    text = re.sub('\\w*\\d\\w*', '', text)\n",
        "    text = re.sub('[’‘’“”…]', '', text)\n",
        "    text = re.sub('\\n', '', text)\n",
        "    return text"
      ]
    },
    {
      "cell_type": "code",
      "execution_count": 9,
      "id": "f186f41f",
      "metadata": {
        "colab": {
          "base_uri": "https://localhost:8080/",
          "height": 424
        },
        "id": "f186f41f",
        "outputId": "72c4196b-f70d-4788-803c-8182300dd54d"
      },
      "outputs": [
        {
          "output_type": "execute_result",
          "data": {
            "text/plain": [
              "                                              Question  \\\n",
              "0          when was elizabethtown college first opened   \n",
              "1                                when was etown opened   \n",
              "2         who originally founded elizabethtown college   \n",
              "3                                    who founded etown   \n",
              "4    when was elizabethtown college originally founded   \n",
              "..                                                 ...   \n",
              "350  is elizabethtown college a college or a univer...   \n",
              "351         what year was elizabethtown college opened   \n",
              "352   when was elizabethtown college officially opened   \n",
              "353  what is the best thing elizabethtown college h...   \n",
              "354  what part of pennsylvania is elizabethtown col...   \n",
              "\n",
              "                                                Answer  Class  \\\n",
              "0                                                 1899      1   \n",
              "1                                                 1899      1   \n",
              "2                    Reverend Jacob G. Francis in 1899      1   \n",
              "3                    Reverend Jacob G. Francis in 1899      1   \n",
              "4                                                 1899      1   \n",
              "..                                                 ...    ...   \n",
              "350                 Elizabethtown College is a college      1   \n",
              "351                                               1899      1   \n",
              "352                                               1899      1   \n",
              "353  The academics at Elizabethtown College are exc...     12   \n",
              "354                                 South Pennsylvania      3   \n",
              "\n",
              "                                           Long_Answer  \n",
              "0                      Etown was first opened in 1899.  \n",
              "1                            Etown was opened in 1899.  \n",
              "2    Etown was founded by Reverend Jacob G. Francis...  \n",
              "3     Reverend Jacob G. Francis founded Etown in 1899.  \n",
              "4                           Etown was founded in 1899.  \n",
              "..                                                 ...  \n",
              "350                                                NaN  \n",
              "351                                                NaN  \n",
              "352                                                NaN  \n",
              "353                                                NaN  \n",
              "354                                                NaN  \n",
              "\n",
              "[355 rows x 4 columns]"
            ],
            "text/html": [
              "\n",
              "  <div id=\"df-480680fa-41b4-47d0-b1cf-091c29ef7c9d\">\n",
              "    <div class=\"colab-df-container\">\n",
              "      <div>\n",
              "<style scoped>\n",
              "    .dataframe tbody tr th:only-of-type {\n",
              "        vertical-align: middle;\n",
              "    }\n",
              "\n",
              "    .dataframe tbody tr th {\n",
              "        vertical-align: top;\n",
              "    }\n",
              "\n",
              "    .dataframe thead th {\n",
              "        text-align: right;\n",
              "    }\n",
              "</style>\n",
              "<table border=\"1\" class=\"dataframe\">\n",
              "  <thead>\n",
              "    <tr style=\"text-align: right;\">\n",
              "      <th></th>\n",
              "      <th>Question</th>\n",
              "      <th>Answer</th>\n",
              "      <th>Class</th>\n",
              "      <th>Long_Answer</th>\n",
              "    </tr>\n",
              "  </thead>\n",
              "  <tbody>\n",
              "    <tr>\n",
              "      <th>0</th>\n",
              "      <td>when was elizabethtown college first opened</td>\n",
              "      <td>1899</td>\n",
              "      <td>1</td>\n",
              "      <td>Etown was first opened in 1899.</td>\n",
              "    </tr>\n",
              "    <tr>\n",
              "      <th>1</th>\n",
              "      <td>when was etown opened</td>\n",
              "      <td>1899</td>\n",
              "      <td>1</td>\n",
              "      <td>Etown was opened in 1899.</td>\n",
              "    </tr>\n",
              "    <tr>\n",
              "      <th>2</th>\n",
              "      <td>who originally founded elizabethtown college</td>\n",
              "      <td>Reverend Jacob G. Francis in 1899</td>\n",
              "      <td>1</td>\n",
              "      <td>Etown was founded by Reverend Jacob G. Francis...</td>\n",
              "    </tr>\n",
              "    <tr>\n",
              "      <th>3</th>\n",
              "      <td>who founded etown</td>\n",
              "      <td>Reverend Jacob G. Francis in 1899</td>\n",
              "      <td>1</td>\n",
              "      <td>Reverend Jacob G. Francis founded Etown in 1899.</td>\n",
              "    </tr>\n",
              "    <tr>\n",
              "      <th>4</th>\n",
              "      <td>when was elizabethtown college originally founded</td>\n",
              "      <td>1899</td>\n",
              "      <td>1</td>\n",
              "      <td>Etown was founded in 1899.</td>\n",
              "    </tr>\n",
              "    <tr>\n",
              "      <th>...</th>\n",
              "      <td>...</td>\n",
              "      <td>...</td>\n",
              "      <td>...</td>\n",
              "      <td>...</td>\n",
              "    </tr>\n",
              "    <tr>\n",
              "      <th>350</th>\n",
              "      <td>is elizabethtown college a college or a univer...</td>\n",
              "      <td>Elizabethtown College is a college</td>\n",
              "      <td>1</td>\n",
              "      <td>NaN</td>\n",
              "    </tr>\n",
              "    <tr>\n",
              "      <th>351</th>\n",
              "      <td>what year was elizabethtown college opened</td>\n",
              "      <td>1899</td>\n",
              "      <td>1</td>\n",
              "      <td>NaN</td>\n",
              "    </tr>\n",
              "    <tr>\n",
              "      <th>352</th>\n",
              "      <td>when was elizabethtown college officially opened</td>\n",
              "      <td>1899</td>\n",
              "      <td>1</td>\n",
              "      <td>NaN</td>\n",
              "    </tr>\n",
              "    <tr>\n",
              "      <th>353</th>\n",
              "      <td>what is the best thing elizabethtown college h...</td>\n",
              "      <td>The academics at Elizabethtown College are exc...</td>\n",
              "      <td>12</td>\n",
              "      <td>NaN</td>\n",
              "    </tr>\n",
              "    <tr>\n",
              "      <th>354</th>\n",
              "      <td>what part of pennsylvania is elizabethtown col...</td>\n",
              "      <td>South Pennsylvania</td>\n",
              "      <td>3</td>\n",
              "      <td>NaN</td>\n",
              "    </tr>\n",
              "  </tbody>\n",
              "</table>\n",
              "<p>355 rows × 4 columns</p>\n",
              "</div>\n",
              "      <button class=\"colab-df-convert\" onclick=\"convertToInteractive('df-480680fa-41b4-47d0-b1cf-091c29ef7c9d')\"\n",
              "              title=\"Convert this dataframe to an interactive table.\"\n",
              "              style=\"display:none;\">\n",
              "        \n",
              "  <svg xmlns=\"http://www.w3.org/2000/svg\" height=\"24px\"viewBox=\"0 0 24 24\"\n",
              "       width=\"24px\">\n",
              "    <path d=\"M0 0h24v24H0V0z\" fill=\"none\"/>\n",
              "    <path d=\"M18.56 5.44l.94 2.06.94-2.06 2.06-.94-2.06-.94-.94-2.06-.94 2.06-2.06.94zm-11 1L8.5 8.5l.94-2.06 2.06-.94-2.06-.94L8.5 2.5l-.94 2.06-2.06.94zm10 10l.94 2.06.94-2.06 2.06-.94-2.06-.94-.94-2.06-.94 2.06-2.06.94z\"/><path d=\"M17.41 7.96l-1.37-1.37c-.4-.4-.92-.59-1.43-.59-.52 0-1.04.2-1.43.59L10.3 9.45l-7.72 7.72c-.78.78-.78 2.05 0 2.83L4 21.41c.39.39.9.59 1.41.59.51 0 1.02-.2 1.41-.59l7.78-7.78 2.81-2.81c.8-.78.8-2.07 0-2.86zM5.41 20L4 18.59l7.72-7.72 1.47 1.35L5.41 20z\"/>\n",
              "  </svg>\n",
              "      </button>\n",
              "      \n",
              "  <style>\n",
              "    .colab-df-container {\n",
              "      display:flex;\n",
              "      flex-wrap:wrap;\n",
              "      gap: 12px;\n",
              "    }\n",
              "\n",
              "    .colab-df-convert {\n",
              "      background-color: #E8F0FE;\n",
              "      border: none;\n",
              "      border-radius: 50%;\n",
              "      cursor: pointer;\n",
              "      display: none;\n",
              "      fill: #1967D2;\n",
              "      height: 32px;\n",
              "      padding: 0 0 0 0;\n",
              "      width: 32px;\n",
              "    }\n",
              "\n",
              "    .colab-df-convert:hover {\n",
              "      background-color: #E2EBFA;\n",
              "      box-shadow: 0px 1px 2px rgba(60, 64, 67, 0.3), 0px 1px 3px 1px rgba(60, 64, 67, 0.15);\n",
              "      fill: #174EA6;\n",
              "    }\n",
              "\n",
              "    [theme=dark] .colab-df-convert {\n",
              "      background-color: #3B4455;\n",
              "      fill: #D2E3FC;\n",
              "    }\n",
              "\n",
              "    [theme=dark] .colab-df-convert:hover {\n",
              "      background-color: #434B5C;\n",
              "      box-shadow: 0px 1px 3px 1px rgba(0, 0, 0, 0.15);\n",
              "      filter: drop-shadow(0px 1px 2px rgba(0, 0, 0, 0.3));\n",
              "      fill: #FFFFFF;\n",
              "    }\n",
              "  </style>\n",
              "\n",
              "      <script>\n",
              "        const buttonEl =\n",
              "          document.querySelector('#df-480680fa-41b4-47d0-b1cf-091c29ef7c9d button.colab-df-convert');\n",
              "        buttonEl.style.display =\n",
              "          google.colab.kernel.accessAllowed ? 'block' : 'none';\n",
              "\n",
              "        async function convertToInteractive(key) {\n",
              "          const element = document.querySelector('#df-480680fa-41b4-47d0-b1cf-091c29ef7c9d');\n",
              "          const dataTable =\n",
              "            await google.colab.kernel.invokeFunction('convertToInteractive',\n",
              "                                                     [key], {});\n",
              "          if (!dataTable) return;\n",
              "\n",
              "          const docLinkHtml = 'Like what you see? Visit the ' +\n",
              "            '<a target=\"_blank\" href=https://colab.research.google.com/notebooks/data_table.ipynb>data table notebook</a>'\n",
              "            + ' to learn more about interactive tables.';\n",
              "          element.innerHTML = '';\n",
              "          dataTable['output_type'] = 'display_data';\n",
              "          await google.colab.output.renderOutput(dataTable, element);\n",
              "          const docLink = document.createElement('div');\n",
              "          docLink.innerHTML = docLinkHtml;\n",
              "          element.appendChild(docLink);\n",
              "        }\n",
              "      </script>\n",
              "    </div>\n",
              "  </div>\n",
              "  "
            ]
          },
          "metadata": {},
          "execution_count": 9
        }
      ],
      "source": [
        "data['Question'] = data['Question'].apply(clean_text)\n",
        "\n",
        "data"
      ]
    },
    {
      "cell_type": "code",
      "execution_count": 12,
      "id": "f7485173",
      "metadata": {
        "id": "f7485173"
      },
      "outputs": [],
      "source": [
        "import nltk\n",
        "from nltk.corpus import stopwords"
      ]
    },
    {
      "cell_type": "code",
      "execution_count": 13,
      "id": "848cb1ef",
      "metadata": {
        "colab": {
          "base_uri": "https://localhost:8080/"
        },
        "id": "848cb1ef",
        "outputId": "26799394-24fc-4a07-d27c-d283f57b0ce9"
      },
      "outputs": [
        {
          "output_type": "stream",
          "name": "stdout",
          "text": [
            "[nltk_data] Downloading package stopwords to /root/nltk_data...\n",
            "[nltk_data]   Unzipping corpora/stopwords.zip.\n",
            "[nltk_data] Downloading package punkt to /root/nltk_data...\n",
            "[nltk_data]   Unzipping tokenizers/punkt.zip.\n"
          ]
        },
        {
          "output_type": "execute_result",
          "data": {
            "text/plain": [
              "True"
            ]
          },
          "metadata": {},
          "execution_count": 13
        }
      ],
      "source": [
        "# Download necessary nltk resources\n",
        "nltk.download('stopwords')\n",
        "nltk.download('punkt')"
      ]
    },
    {
      "cell_type": "code",
      "execution_count": 14,
      "id": "3f344d89",
      "metadata": {
        "colab": {
          "base_uri": "https://localhost:8080/"
        },
        "id": "3f344d89",
        "outputId": "92b2dc1d-31db-4482-e962-eb13694cae60"
      },
      "outputs": [
        {
          "output_type": "execute_result",
          "data": {
            "text/plain": [
              "['i',\n",
              " 'me',\n",
              " 'my',\n",
              " 'myself',\n",
              " 'we',\n",
              " 'our',\n",
              " 'ours',\n",
              " 'ourselves',\n",
              " 'you',\n",
              " \"you're\",\n",
              " \"you've\",\n",
              " \"you'll\",\n",
              " \"you'd\",\n",
              " 'your',\n",
              " 'yours',\n",
              " 'yourself',\n",
              " 'yourselves',\n",
              " 'he',\n",
              " 'him',\n",
              " 'his',\n",
              " 'himself',\n",
              " 'she',\n",
              " \"she's\",\n",
              " 'her',\n",
              " 'hers',\n",
              " 'herself',\n",
              " 'it',\n",
              " \"it's\",\n",
              " 'its',\n",
              " 'itself',\n",
              " 'they',\n",
              " 'them',\n",
              " 'their',\n",
              " 'theirs',\n",
              " 'themselves',\n",
              " 'what',\n",
              " 'which',\n",
              " 'who',\n",
              " 'whom',\n",
              " 'this',\n",
              " 'that',\n",
              " \"that'll\",\n",
              " 'these',\n",
              " 'those',\n",
              " 'am',\n",
              " 'is',\n",
              " 'are',\n",
              " 'was',\n",
              " 'were',\n",
              " 'be',\n",
              " 'been',\n",
              " 'being',\n",
              " 'have',\n",
              " 'has',\n",
              " 'had',\n",
              " 'having',\n",
              " 'do',\n",
              " 'does',\n",
              " 'did',\n",
              " 'doing',\n",
              " 'a',\n",
              " 'an',\n",
              " 'the',\n",
              " 'and',\n",
              " 'but',\n",
              " 'if',\n",
              " 'or',\n",
              " 'because',\n",
              " 'as',\n",
              " 'until',\n",
              " 'while',\n",
              " 'of',\n",
              " 'at',\n",
              " 'by',\n",
              " 'for',\n",
              " 'with',\n",
              " 'about',\n",
              " 'against',\n",
              " 'between',\n",
              " 'into',\n",
              " 'through',\n",
              " 'during',\n",
              " 'before',\n",
              " 'after',\n",
              " 'above',\n",
              " 'below',\n",
              " 'to',\n",
              " 'from',\n",
              " 'up',\n",
              " 'down',\n",
              " 'in',\n",
              " 'out',\n",
              " 'on',\n",
              " 'off',\n",
              " 'over',\n",
              " 'under',\n",
              " 'again',\n",
              " 'further',\n",
              " 'then',\n",
              " 'once',\n",
              " 'here',\n",
              " 'there',\n",
              " 'when',\n",
              " 'where',\n",
              " 'why',\n",
              " 'how',\n",
              " 'all',\n",
              " 'any',\n",
              " 'both',\n",
              " 'each',\n",
              " 'few',\n",
              " 'more',\n",
              " 'most',\n",
              " 'other',\n",
              " 'some',\n",
              " 'such',\n",
              " 'no',\n",
              " 'nor',\n",
              " 'not',\n",
              " 'only',\n",
              " 'own',\n",
              " 'same',\n",
              " 'so',\n",
              " 'than',\n",
              " 'too',\n",
              " 'very',\n",
              " 's',\n",
              " 't',\n",
              " 'can',\n",
              " 'will',\n",
              " 'just',\n",
              " 'don',\n",
              " \"don't\",\n",
              " 'should',\n",
              " \"should've\",\n",
              " 'now',\n",
              " 'd',\n",
              " 'll',\n",
              " 'm',\n",
              " 'o',\n",
              " 're',\n",
              " 've',\n",
              " 'y',\n",
              " 'ain',\n",
              " 'aren',\n",
              " \"aren't\",\n",
              " 'couldn',\n",
              " \"couldn't\",\n",
              " 'didn',\n",
              " \"didn't\",\n",
              " 'doesn',\n",
              " \"doesn't\",\n",
              " 'hadn',\n",
              " \"hadn't\",\n",
              " 'hasn',\n",
              " \"hasn't\",\n",
              " 'haven',\n",
              " \"haven't\",\n",
              " 'isn',\n",
              " \"isn't\",\n",
              " 'ma',\n",
              " 'mightn',\n",
              " \"mightn't\",\n",
              " 'mustn',\n",
              " \"mustn't\",\n",
              " 'needn',\n",
              " \"needn't\",\n",
              " 'shan',\n",
              " \"shan't\",\n",
              " 'shouldn',\n",
              " \"shouldn't\",\n",
              " 'wasn',\n",
              " \"wasn't\",\n",
              " 'weren',\n",
              " \"weren't\",\n",
              " 'won',\n",
              " \"won't\",\n",
              " 'wouldn',\n",
              " \"wouldn't\"]"
            ]
          },
          "metadata": {},
          "execution_count": 14
        }
      ],
      "source": [
        "stop_words = list(stopwords.words('english')) \n",
        "\n",
        "stop_words"
      ]
    },
    {
      "cell_type": "code",
      "execution_count": 15,
      "id": "3ba86e20",
      "metadata": {
        "colab": {
          "base_uri": "https://localhost:8080/"
        },
        "id": "3ba86e20",
        "outputId": "3a3aeb96-83b1-4bf3-e210-bbed9afb142d"
      },
      "outputs": [
        {
          "output_type": "execute_result",
          "data": {
            "text/plain": [
              "['i',\n",
              " 'me',\n",
              " 'my',\n",
              " 'myself',\n",
              " 'we',\n",
              " 'our',\n",
              " 'ours',\n",
              " 'ourselves',\n",
              " 'you',\n",
              " \"you're\",\n",
              " \"you've\",\n",
              " \"you'll\",\n",
              " \"you'd\",\n",
              " 'your',\n",
              " 'yours',\n",
              " 'yourself',\n",
              " 'yourselves',\n",
              " 'he',\n",
              " 'him',\n",
              " 'his',\n",
              " 'himself',\n",
              " 'she',\n",
              " \"she's\",\n",
              " 'her',\n",
              " 'hers',\n",
              " 'herself',\n",
              " 'it',\n",
              " \"it's\",\n",
              " 'its',\n",
              " 'itself',\n",
              " 'they',\n",
              " 'them',\n",
              " 'their',\n",
              " 'theirs',\n",
              " 'themselves',\n",
              " 'what',\n",
              " 'which',\n",
              " 'who',\n",
              " 'whom',\n",
              " 'this',\n",
              " 'that',\n",
              " \"that'll\",\n",
              " 'these',\n",
              " 'those',\n",
              " 'am',\n",
              " 'is',\n",
              " 'are',\n",
              " 'was',\n",
              " 'were',\n",
              " 'be',\n",
              " 'been',\n",
              " 'being',\n",
              " 'have',\n",
              " 'has',\n",
              " 'had',\n",
              " 'having',\n",
              " 'do',\n",
              " 'does',\n",
              " 'did',\n",
              " 'doing',\n",
              " 'a',\n",
              " 'an',\n",
              " 'the',\n",
              " 'and',\n",
              " 'but',\n",
              " 'if',\n",
              " 'or',\n",
              " 'because',\n",
              " 'as',\n",
              " 'until',\n",
              " 'while',\n",
              " 'of',\n",
              " 'at',\n",
              " 'by',\n",
              " 'for',\n",
              " 'with',\n",
              " 'about',\n",
              " 'against',\n",
              " 'between',\n",
              " 'into',\n",
              " 'through',\n",
              " 'during',\n",
              " 'before',\n",
              " 'after',\n",
              " 'above',\n",
              " 'below',\n",
              " 'to',\n",
              " 'from',\n",
              " 'up',\n",
              " 'down',\n",
              " 'in',\n",
              " 'out',\n",
              " 'on',\n",
              " 'off',\n",
              " 'over',\n",
              " 'under',\n",
              " 'again',\n",
              " 'further',\n",
              " 'then',\n",
              " 'once',\n",
              " 'here',\n",
              " 'there',\n",
              " 'when',\n",
              " 'where',\n",
              " 'why',\n",
              " 'how',\n",
              " 'all',\n",
              " 'any',\n",
              " 'both',\n",
              " 'each',\n",
              " 'few',\n",
              " 'more',\n",
              " 'most',\n",
              " 'other',\n",
              " 'some',\n",
              " 'such',\n",
              " 'no',\n",
              " 'nor',\n",
              " 'not',\n",
              " 'only',\n",
              " 'own',\n",
              " 'same',\n",
              " 'so',\n",
              " 'than',\n",
              " 'too',\n",
              " 'very',\n",
              " 's',\n",
              " 't',\n",
              " 'can',\n",
              " 'will',\n",
              " 'just',\n",
              " 'don',\n",
              " \"don't\",\n",
              " 'should',\n",
              " \"should've\",\n",
              " 'now',\n",
              " 'd',\n",
              " 'll',\n",
              " 'm',\n",
              " 'o',\n",
              " 're',\n",
              " 've',\n",
              " 'y',\n",
              " 'ain',\n",
              " 'aren',\n",
              " \"aren't\",\n",
              " 'couldn',\n",
              " \"couldn't\",\n",
              " 'didn',\n",
              " \"didn't\",\n",
              " 'doesn',\n",
              " \"doesn't\",\n",
              " 'hadn',\n",
              " \"hadn't\",\n",
              " 'hasn',\n",
              " \"hasn't\",\n",
              " 'haven',\n",
              " \"haven't\",\n",
              " 'isn',\n",
              " \"isn't\",\n",
              " 'ma',\n",
              " 'mightn',\n",
              " \"mightn't\",\n",
              " 'mustn',\n",
              " \"mustn't\",\n",
              " 'needn',\n",
              " \"needn't\",\n",
              " 'shan',\n",
              " \"shan't\",\n",
              " 'shouldn',\n",
              " \"shouldn't\",\n",
              " 'wasn',\n",
              " \"wasn't\",\n",
              " 'weren',\n",
              " \"weren't\",\n",
              " 'won',\n",
              " \"won't\",\n",
              " 'wouldn',\n",
              " \"wouldn't\",\n",
              " 'elizabethtown',\n",
              " 'college',\n",
              " 'etown']"
            ]
          },
          "metadata": {},
          "execution_count": 15
        }
      ],
      "source": [
        "# Add our own stop words\n",
        "\n",
        "stop_words.append('elizabethtown')\n",
        "stop_words.append('college')\n",
        "stop_words.append('etown')\n",
        "\n",
        "stop_words"
      ]
    },
    {
      "cell_type": "code",
      "execution_count": 16,
      "id": "18d1ad37",
      "metadata": {
        "id": "18d1ad37"
      },
      "outputs": [],
      "source": [
        "from nltk.tokenize import word_tokenize"
      ]
    },
    {
      "cell_type": "code",
      "execution_count": 17,
      "id": "be08a754",
      "metadata": {
        "id": "be08a754"
      },
      "outputs": [],
      "source": [
        "def remove_stop_words(sent):\n",
        "    words = word_tokenize(sent)\n",
        "    sent = ' '.join(str(j) for j in words if j not in stop_words and (len(j) != 1))\n",
        "    \n",
        "    return sent"
      ]
    },
    {
      "cell_type": "code",
      "execution_count": 18,
      "id": "73d84e0f",
      "metadata": {
        "colab": {
          "base_uri": "https://localhost:8080/",
          "height": 424
        },
        "id": "73d84e0f",
        "outputId": "3a8f627e-6c85-44d5-fd95-81f0e146024c"
      },
      "outputs": [
        {
          "output_type": "execute_result",
          "data": {
            "text/plain": [
              "               Question                                             Answer  \\\n",
              "0          first opened                                               1899   \n",
              "1                opened                                               1899   \n",
              "2    originally founded                  Reverend Jacob G. Francis in 1899   \n",
              "3               founded                  Reverend Jacob G. Francis in 1899   \n",
              "4    originally founded                                               1899   \n",
              "..                  ...                                                ...   \n",
              "350          university                 Elizabethtown College is a college   \n",
              "351         year opened                                               1899   \n",
              "352   officially opened                                               1899   \n",
              "353    best thing offer  The academics at Elizabethtown College are exc...   \n",
              "354   part pennsylvania                                 South Pennsylvania   \n",
              "\n",
              "     Class                                        Long_Answer  \n",
              "0        1                    Etown was first opened in 1899.  \n",
              "1        1                          Etown was opened in 1899.  \n",
              "2        1  Etown was founded by Reverend Jacob G. Francis...  \n",
              "3        1   Reverend Jacob G. Francis founded Etown in 1899.  \n",
              "4        1                         Etown was founded in 1899.  \n",
              "..     ...                                                ...  \n",
              "350      1                                                NaN  \n",
              "351      1                                                NaN  \n",
              "352      1                                                NaN  \n",
              "353     12                                                NaN  \n",
              "354      3                                                NaN  \n",
              "\n",
              "[355 rows x 4 columns]"
            ],
            "text/html": [
              "\n",
              "  <div id=\"df-ad021ce3-86d9-4fde-94b6-73325b5c5b2a\">\n",
              "    <div class=\"colab-df-container\">\n",
              "      <div>\n",
              "<style scoped>\n",
              "    .dataframe tbody tr th:only-of-type {\n",
              "        vertical-align: middle;\n",
              "    }\n",
              "\n",
              "    .dataframe tbody tr th {\n",
              "        vertical-align: top;\n",
              "    }\n",
              "\n",
              "    .dataframe thead th {\n",
              "        text-align: right;\n",
              "    }\n",
              "</style>\n",
              "<table border=\"1\" class=\"dataframe\">\n",
              "  <thead>\n",
              "    <tr style=\"text-align: right;\">\n",
              "      <th></th>\n",
              "      <th>Question</th>\n",
              "      <th>Answer</th>\n",
              "      <th>Class</th>\n",
              "      <th>Long_Answer</th>\n",
              "    </tr>\n",
              "  </thead>\n",
              "  <tbody>\n",
              "    <tr>\n",
              "      <th>0</th>\n",
              "      <td>first opened</td>\n",
              "      <td>1899</td>\n",
              "      <td>1</td>\n",
              "      <td>Etown was first opened in 1899.</td>\n",
              "    </tr>\n",
              "    <tr>\n",
              "      <th>1</th>\n",
              "      <td>opened</td>\n",
              "      <td>1899</td>\n",
              "      <td>1</td>\n",
              "      <td>Etown was opened in 1899.</td>\n",
              "    </tr>\n",
              "    <tr>\n",
              "      <th>2</th>\n",
              "      <td>originally founded</td>\n",
              "      <td>Reverend Jacob G. Francis in 1899</td>\n",
              "      <td>1</td>\n",
              "      <td>Etown was founded by Reverend Jacob G. Francis...</td>\n",
              "    </tr>\n",
              "    <tr>\n",
              "      <th>3</th>\n",
              "      <td>founded</td>\n",
              "      <td>Reverend Jacob G. Francis in 1899</td>\n",
              "      <td>1</td>\n",
              "      <td>Reverend Jacob G. Francis founded Etown in 1899.</td>\n",
              "    </tr>\n",
              "    <tr>\n",
              "      <th>4</th>\n",
              "      <td>originally founded</td>\n",
              "      <td>1899</td>\n",
              "      <td>1</td>\n",
              "      <td>Etown was founded in 1899.</td>\n",
              "    </tr>\n",
              "    <tr>\n",
              "      <th>...</th>\n",
              "      <td>...</td>\n",
              "      <td>...</td>\n",
              "      <td>...</td>\n",
              "      <td>...</td>\n",
              "    </tr>\n",
              "    <tr>\n",
              "      <th>350</th>\n",
              "      <td>university</td>\n",
              "      <td>Elizabethtown College is a college</td>\n",
              "      <td>1</td>\n",
              "      <td>NaN</td>\n",
              "    </tr>\n",
              "    <tr>\n",
              "      <th>351</th>\n",
              "      <td>year opened</td>\n",
              "      <td>1899</td>\n",
              "      <td>1</td>\n",
              "      <td>NaN</td>\n",
              "    </tr>\n",
              "    <tr>\n",
              "      <th>352</th>\n",
              "      <td>officially opened</td>\n",
              "      <td>1899</td>\n",
              "      <td>1</td>\n",
              "      <td>NaN</td>\n",
              "    </tr>\n",
              "    <tr>\n",
              "      <th>353</th>\n",
              "      <td>best thing offer</td>\n",
              "      <td>The academics at Elizabethtown College are exc...</td>\n",
              "      <td>12</td>\n",
              "      <td>NaN</td>\n",
              "    </tr>\n",
              "    <tr>\n",
              "      <th>354</th>\n",
              "      <td>part pennsylvania</td>\n",
              "      <td>South Pennsylvania</td>\n",
              "      <td>3</td>\n",
              "      <td>NaN</td>\n",
              "    </tr>\n",
              "  </tbody>\n",
              "</table>\n",
              "<p>355 rows × 4 columns</p>\n",
              "</div>\n",
              "      <button class=\"colab-df-convert\" onclick=\"convertToInteractive('df-ad021ce3-86d9-4fde-94b6-73325b5c5b2a')\"\n",
              "              title=\"Convert this dataframe to an interactive table.\"\n",
              "              style=\"display:none;\">\n",
              "        \n",
              "  <svg xmlns=\"http://www.w3.org/2000/svg\" height=\"24px\"viewBox=\"0 0 24 24\"\n",
              "       width=\"24px\">\n",
              "    <path d=\"M0 0h24v24H0V0z\" fill=\"none\"/>\n",
              "    <path d=\"M18.56 5.44l.94 2.06.94-2.06 2.06-.94-2.06-.94-.94-2.06-.94 2.06-2.06.94zm-11 1L8.5 8.5l.94-2.06 2.06-.94-2.06-.94L8.5 2.5l-.94 2.06-2.06.94zm10 10l.94 2.06.94-2.06 2.06-.94-2.06-.94-.94-2.06-.94 2.06-2.06.94z\"/><path d=\"M17.41 7.96l-1.37-1.37c-.4-.4-.92-.59-1.43-.59-.52 0-1.04.2-1.43.59L10.3 9.45l-7.72 7.72c-.78.78-.78 2.05 0 2.83L4 21.41c.39.39.9.59 1.41.59.51 0 1.02-.2 1.41-.59l7.78-7.78 2.81-2.81c.8-.78.8-2.07 0-2.86zM5.41 20L4 18.59l7.72-7.72 1.47 1.35L5.41 20z\"/>\n",
              "  </svg>\n",
              "      </button>\n",
              "      \n",
              "  <style>\n",
              "    .colab-df-container {\n",
              "      display:flex;\n",
              "      flex-wrap:wrap;\n",
              "      gap: 12px;\n",
              "    }\n",
              "\n",
              "    .colab-df-convert {\n",
              "      background-color: #E8F0FE;\n",
              "      border: none;\n",
              "      border-radius: 50%;\n",
              "      cursor: pointer;\n",
              "      display: none;\n",
              "      fill: #1967D2;\n",
              "      height: 32px;\n",
              "      padding: 0 0 0 0;\n",
              "      width: 32px;\n",
              "    }\n",
              "\n",
              "    .colab-df-convert:hover {\n",
              "      background-color: #E2EBFA;\n",
              "      box-shadow: 0px 1px 2px rgba(60, 64, 67, 0.3), 0px 1px 3px 1px rgba(60, 64, 67, 0.15);\n",
              "      fill: #174EA6;\n",
              "    }\n",
              "\n",
              "    [theme=dark] .colab-df-convert {\n",
              "      background-color: #3B4455;\n",
              "      fill: #D2E3FC;\n",
              "    }\n",
              "\n",
              "    [theme=dark] .colab-df-convert:hover {\n",
              "      background-color: #434B5C;\n",
              "      box-shadow: 0px 1px 3px 1px rgba(0, 0, 0, 0.15);\n",
              "      filter: drop-shadow(0px 1px 2px rgba(0, 0, 0, 0.3));\n",
              "      fill: #FFFFFF;\n",
              "    }\n",
              "  </style>\n",
              "\n",
              "      <script>\n",
              "        const buttonEl =\n",
              "          document.querySelector('#df-ad021ce3-86d9-4fde-94b6-73325b5c5b2a button.colab-df-convert');\n",
              "        buttonEl.style.display =\n",
              "          google.colab.kernel.accessAllowed ? 'block' : 'none';\n",
              "\n",
              "        async function convertToInteractive(key) {\n",
              "          const element = document.querySelector('#df-ad021ce3-86d9-4fde-94b6-73325b5c5b2a');\n",
              "          const dataTable =\n",
              "            await google.colab.kernel.invokeFunction('convertToInteractive',\n",
              "                                                     [key], {});\n",
              "          if (!dataTable) return;\n",
              "\n",
              "          const docLinkHtml = 'Like what you see? Visit the ' +\n",
              "            '<a target=\"_blank\" href=https://colab.research.google.com/notebooks/data_table.ipynb>data table notebook</a>'\n",
              "            + ' to learn more about interactive tables.';\n",
              "          element.innerHTML = '';\n",
              "          dataTable['output_type'] = 'display_data';\n",
              "          await google.colab.output.renderOutput(dataTable, element);\n",
              "          const docLink = document.createElement('div');\n",
              "          docLink.innerHTML = docLinkHtml;\n",
              "          element.appendChild(docLink);\n",
              "        }\n",
              "      </script>\n",
              "    </div>\n",
              "  </div>\n",
              "  "
            ]
          },
          "metadata": {},
          "execution_count": 18
        }
      ],
      "source": [
        "data['Question'] = data['Question'].apply(remove_stop_words)\n",
        "\n",
        "data"
      ]
    },
    {
      "cell_type": "code",
      "execution_count": 19,
      "id": "93b6672c",
      "metadata": {
        "id": "93b6672c"
      },
      "outputs": [],
      "source": [
        "import itertools"
      ]
    },
    {
      "cell_type": "code",
      "execution_count": 20,
      "id": "7a12bc41",
      "metadata": {
        "scrolled": false,
        "colab": {
          "base_uri": "https://localhost:8080/",
          "height": 424
        },
        "id": "7a12bc41",
        "outputId": "50d4b7ca-f160-4754-b636-cf30c6fcf1c8"
      },
      "outputs": [
        {
          "output_type": "execute_result",
          "data": {
            "text/plain": [
              "                       0                   1\n",
              "0           first opened              opened\n",
              "1           first opened  originally founded\n",
              "2           first opened             founded\n",
              "3           first opened  originally founded\n",
              "4           first opened             founded\n",
              "...                  ...                 ...\n",
              "62830        year opened    best thing offer\n",
              "62831        year opened   part pennsylvania\n",
              "62832  officially opened    best thing offer\n",
              "62833  officially opened   part pennsylvania\n",
              "62834   best thing offer   part pennsylvania\n",
              "\n",
              "[62835 rows x 2 columns]"
            ],
            "text/html": [
              "\n",
              "  <div id=\"df-4d40ce37-f3d2-4dd1-8a34-1c4fd28ca661\">\n",
              "    <div class=\"colab-df-container\">\n",
              "      <div>\n",
              "<style scoped>\n",
              "    .dataframe tbody tr th:only-of-type {\n",
              "        vertical-align: middle;\n",
              "    }\n",
              "\n",
              "    .dataframe tbody tr th {\n",
              "        vertical-align: top;\n",
              "    }\n",
              "\n",
              "    .dataframe thead th {\n",
              "        text-align: right;\n",
              "    }\n",
              "</style>\n",
              "<table border=\"1\" class=\"dataframe\">\n",
              "  <thead>\n",
              "    <tr style=\"text-align: right;\">\n",
              "      <th></th>\n",
              "      <th>0</th>\n",
              "      <th>1</th>\n",
              "    </tr>\n",
              "  </thead>\n",
              "  <tbody>\n",
              "    <tr>\n",
              "      <th>0</th>\n",
              "      <td>first opened</td>\n",
              "      <td>opened</td>\n",
              "    </tr>\n",
              "    <tr>\n",
              "      <th>1</th>\n",
              "      <td>first opened</td>\n",
              "      <td>originally founded</td>\n",
              "    </tr>\n",
              "    <tr>\n",
              "      <th>2</th>\n",
              "      <td>first opened</td>\n",
              "      <td>founded</td>\n",
              "    </tr>\n",
              "    <tr>\n",
              "      <th>3</th>\n",
              "      <td>first opened</td>\n",
              "      <td>originally founded</td>\n",
              "    </tr>\n",
              "    <tr>\n",
              "      <th>4</th>\n",
              "      <td>first opened</td>\n",
              "      <td>founded</td>\n",
              "    </tr>\n",
              "    <tr>\n",
              "      <th>...</th>\n",
              "      <td>...</td>\n",
              "      <td>...</td>\n",
              "    </tr>\n",
              "    <tr>\n",
              "      <th>62830</th>\n",
              "      <td>year opened</td>\n",
              "      <td>best thing offer</td>\n",
              "    </tr>\n",
              "    <tr>\n",
              "      <th>62831</th>\n",
              "      <td>year opened</td>\n",
              "      <td>part pennsylvania</td>\n",
              "    </tr>\n",
              "    <tr>\n",
              "      <th>62832</th>\n",
              "      <td>officially opened</td>\n",
              "      <td>best thing offer</td>\n",
              "    </tr>\n",
              "    <tr>\n",
              "      <th>62833</th>\n",
              "      <td>officially opened</td>\n",
              "      <td>part pennsylvania</td>\n",
              "    </tr>\n",
              "    <tr>\n",
              "      <th>62834</th>\n",
              "      <td>best thing offer</td>\n",
              "      <td>part pennsylvania</td>\n",
              "    </tr>\n",
              "  </tbody>\n",
              "</table>\n",
              "<p>62835 rows × 2 columns</p>\n",
              "</div>\n",
              "      <button class=\"colab-df-convert\" onclick=\"convertToInteractive('df-4d40ce37-f3d2-4dd1-8a34-1c4fd28ca661')\"\n",
              "              title=\"Convert this dataframe to an interactive table.\"\n",
              "              style=\"display:none;\">\n",
              "        \n",
              "  <svg xmlns=\"http://www.w3.org/2000/svg\" height=\"24px\"viewBox=\"0 0 24 24\"\n",
              "       width=\"24px\">\n",
              "    <path d=\"M0 0h24v24H0V0z\" fill=\"none\"/>\n",
              "    <path d=\"M18.56 5.44l.94 2.06.94-2.06 2.06-.94-2.06-.94-.94-2.06-.94 2.06-2.06.94zm-11 1L8.5 8.5l.94-2.06 2.06-.94-2.06-.94L8.5 2.5l-.94 2.06-2.06.94zm10 10l.94 2.06.94-2.06 2.06-.94-2.06-.94-.94-2.06-.94 2.06-2.06.94z\"/><path d=\"M17.41 7.96l-1.37-1.37c-.4-.4-.92-.59-1.43-.59-.52 0-1.04.2-1.43.59L10.3 9.45l-7.72 7.72c-.78.78-.78 2.05 0 2.83L4 21.41c.39.39.9.59 1.41.59.51 0 1.02-.2 1.41-.59l7.78-7.78 2.81-2.81c.8-.78.8-2.07 0-2.86zM5.41 20L4 18.59l7.72-7.72 1.47 1.35L5.41 20z\"/>\n",
              "  </svg>\n",
              "      </button>\n",
              "      \n",
              "  <style>\n",
              "    .colab-df-container {\n",
              "      display:flex;\n",
              "      flex-wrap:wrap;\n",
              "      gap: 12px;\n",
              "    }\n",
              "\n",
              "    .colab-df-convert {\n",
              "      background-color: #E8F0FE;\n",
              "      border: none;\n",
              "      border-radius: 50%;\n",
              "      cursor: pointer;\n",
              "      display: none;\n",
              "      fill: #1967D2;\n",
              "      height: 32px;\n",
              "      padding: 0 0 0 0;\n",
              "      width: 32px;\n",
              "    }\n",
              "\n",
              "    .colab-df-convert:hover {\n",
              "      background-color: #E2EBFA;\n",
              "      box-shadow: 0px 1px 2px rgba(60, 64, 67, 0.3), 0px 1px 3px 1px rgba(60, 64, 67, 0.15);\n",
              "      fill: #174EA6;\n",
              "    }\n",
              "\n",
              "    [theme=dark] .colab-df-convert {\n",
              "      background-color: #3B4455;\n",
              "      fill: #D2E3FC;\n",
              "    }\n",
              "\n",
              "    [theme=dark] .colab-df-convert:hover {\n",
              "      background-color: #434B5C;\n",
              "      box-shadow: 0px 1px 3px 1px rgba(0, 0, 0, 0.15);\n",
              "      filter: drop-shadow(0px 1px 2px rgba(0, 0, 0, 0.3));\n",
              "      fill: #FFFFFF;\n",
              "    }\n",
              "  </style>\n",
              "\n",
              "      <script>\n",
              "        const buttonEl =\n",
              "          document.querySelector('#df-4d40ce37-f3d2-4dd1-8a34-1c4fd28ca661 button.colab-df-convert');\n",
              "        buttonEl.style.display =\n",
              "          google.colab.kernel.accessAllowed ? 'block' : 'none';\n",
              "\n",
              "        async function convertToInteractive(key) {\n",
              "          const element = document.querySelector('#df-4d40ce37-f3d2-4dd1-8a34-1c4fd28ca661');\n",
              "          const dataTable =\n",
              "            await google.colab.kernel.invokeFunction('convertToInteractive',\n",
              "                                                     [key], {});\n",
              "          if (!dataTable) return;\n",
              "\n",
              "          const docLinkHtml = 'Like what you see? Visit the ' +\n",
              "            '<a target=\"_blank\" href=https://colab.research.google.com/notebooks/data_table.ipynb>data table notebook</a>'\n",
              "            + ' to learn more about interactive tables.';\n",
              "          element.innerHTML = '';\n",
              "          dataTable['output_type'] = 'display_data';\n",
              "          await google.colab.output.renderOutput(dataTable, element);\n",
              "          const docLink = document.createElement('div');\n",
              "          docLink.innerHTML = docLinkHtml;\n",
              "          element.appendChild(docLink);\n",
              "        }\n",
              "      </script>\n",
              "    </div>\n",
              "  </div>\n",
              "  "
            ]
          },
          "metadata": {},
          "execution_count": 20
        }
      ],
      "source": [
        "df = pd.DataFrame(list(itertools.combinations(data['Question'], 2)))\n",
        "\n",
        "df"
      ]
    },
    {
      "cell_type": "code",
      "execution_count": 21,
      "id": "78530332",
      "metadata": {
        "id": "78530332"
      },
      "outputs": [],
      "source": [
        "def label_question(index_question):\n",
        "    return list(data.loc[data['Question'] == index_question]['Class'])[0]"
      ]
    },
    {
      "cell_type": "code",
      "execution_count": 22,
      "id": "6d9a8598",
      "metadata": {
        "scrolled": true,
        "colab": {
          "base_uri": "https://localhost:8080/",
          "height": 424
        },
        "id": "6d9a8598",
        "outputId": "238a8a4b-bcfb-4522-a4af-05b57f48ea47"
      },
      "outputs": [
        {
          "output_type": "execute_result",
          "data": {
            "text/plain": [
              "                       0                   1  label_0  label_1\n",
              "0           first opened              opened        1        1\n",
              "1           first opened  originally founded        1        1\n",
              "2           first opened             founded        1        1\n",
              "3           first opened  originally founded        1        1\n",
              "4           first opened             founded        1        1\n",
              "...                  ...                 ...      ...      ...\n",
              "62830        year opened    best thing offer        1       12\n",
              "62831        year opened   part pennsylvania        1        3\n",
              "62832  officially opened    best thing offer        1       12\n",
              "62833  officially opened   part pennsylvania        1        3\n",
              "62834   best thing offer   part pennsylvania       12        3\n",
              "\n",
              "[62835 rows x 4 columns]"
            ],
            "text/html": [
              "\n",
              "  <div id=\"df-7509e34c-a869-4471-a7a7-2ea9c2c04ffd\">\n",
              "    <div class=\"colab-df-container\">\n",
              "      <div>\n",
              "<style scoped>\n",
              "    .dataframe tbody tr th:only-of-type {\n",
              "        vertical-align: middle;\n",
              "    }\n",
              "\n",
              "    .dataframe tbody tr th {\n",
              "        vertical-align: top;\n",
              "    }\n",
              "\n",
              "    .dataframe thead th {\n",
              "        text-align: right;\n",
              "    }\n",
              "</style>\n",
              "<table border=\"1\" class=\"dataframe\">\n",
              "  <thead>\n",
              "    <tr style=\"text-align: right;\">\n",
              "      <th></th>\n",
              "      <th>0</th>\n",
              "      <th>1</th>\n",
              "      <th>label_0</th>\n",
              "      <th>label_1</th>\n",
              "    </tr>\n",
              "  </thead>\n",
              "  <tbody>\n",
              "    <tr>\n",
              "      <th>0</th>\n",
              "      <td>first opened</td>\n",
              "      <td>opened</td>\n",
              "      <td>1</td>\n",
              "      <td>1</td>\n",
              "    </tr>\n",
              "    <tr>\n",
              "      <th>1</th>\n",
              "      <td>first opened</td>\n",
              "      <td>originally founded</td>\n",
              "      <td>1</td>\n",
              "      <td>1</td>\n",
              "    </tr>\n",
              "    <tr>\n",
              "      <th>2</th>\n",
              "      <td>first opened</td>\n",
              "      <td>founded</td>\n",
              "      <td>1</td>\n",
              "      <td>1</td>\n",
              "    </tr>\n",
              "    <tr>\n",
              "      <th>3</th>\n",
              "      <td>first opened</td>\n",
              "      <td>originally founded</td>\n",
              "      <td>1</td>\n",
              "      <td>1</td>\n",
              "    </tr>\n",
              "    <tr>\n",
              "      <th>4</th>\n",
              "      <td>first opened</td>\n",
              "      <td>founded</td>\n",
              "      <td>1</td>\n",
              "      <td>1</td>\n",
              "    </tr>\n",
              "    <tr>\n",
              "      <th>...</th>\n",
              "      <td>...</td>\n",
              "      <td>...</td>\n",
              "      <td>...</td>\n",
              "      <td>...</td>\n",
              "    </tr>\n",
              "    <tr>\n",
              "      <th>62830</th>\n",
              "      <td>year opened</td>\n",
              "      <td>best thing offer</td>\n",
              "      <td>1</td>\n",
              "      <td>12</td>\n",
              "    </tr>\n",
              "    <tr>\n",
              "      <th>62831</th>\n",
              "      <td>year opened</td>\n",
              "      <td>part pennsylvania</td>\n",
              "      <td>1</td>\n",
              "      <td>3</td>\n",
              "    </tr>\n",
              "    <tr>\n",
              "      <th>62832</th>\n",
              "      <td>officially opened</td>\n",
              "      <td>best thing offer</td>\n",
              "      <td>1</td>\n",
              "      <td>12</td>\n",
              "    </tr>\n",
              "    <tr>\n",
              "      <th>62833</th>\n",
              "      <td>officially opened</td>\n",
              "      <td>part pennsylvania</td>\n",
              "      <td>1</td>\n",
              "      <td>3</td>\n",
              "    </tr>\n",
              "    <tr>\n",
              "      <th>62834</th>\n",
              "      <td>best thing offer</td>\n",
              "      <td>part pennsylvania</td>\n",
              "      <td>12</td>\n",
              "      <td>3</td>\n",
              "    </tr>\n",
              "  </tbody>\n",
              "</table>\n",
              "<p>62835 rows × 4 columns</p>\n",
              "</div>\n",
              "      <button class=\"colab-df-convert\" onclick=\"convertToInteractive('df-7509e34c-a869-4471-a7a7-2ea9c2c04ffd')\"\n",
              "              title=\"Convert this dataframe to an interactive table.\"\n",
              "              style=\"display:none;\">\n",
              "        \n",
              "  <svg xmlns=\"http://www.w3.org/2000/svg\" height=\"24px\"viewBox=\"0 0 24 24\"\n",
              "       width=\"24px\">\n",
              "    <path d=\"M0 0h24v24H0V0z\" fill=\"none\"/>\n",
              "    <path d=\"M18.56 5.44l.94 2.06.94-2.06 2.06-.94-2.06-.94-.94-2.06-.94 2.06-2.06.94zm-11 1L8.5 8.5l.94-2.06 2.06-.94-2.06-.94L8.5 2.5l-.94 2.06-2.06.94zm10 10l.94 2.06.94-2.06 2.06-.94-2.06-.94-.94-2.06-.94 2.06-2.06.94z\"/><path d=\"M17.41 7.96l-1.37-1.37c-.4-.4-.92-.59-1.43-.59-.52 0-1.04.2-1.43.59L10.3 9.45l-7.72 7.72c-.78.78-.78 2.05 0 2.83L4 21.41c.39.39.9.59 1.41.59.51 0 1.02-.2 1.41-.59l7.78-7.78 2.81-2.81c.8-.78.8-2.07 0-2.86zM5.41 20L4 18.59l7.72-7.72 1.47 1.35L5.41 20z\"/>\n",
              "  </svg>\n",
              "      </button>\n",
              "      \n",
              "  <style>\n",
              "    .colab-df-container {\n",
              "      display:flex;\n",
              "      flex-wrap:wrap;\n",
              "      gap: 12px;\n",
              "    }\n",
              "\n",
              "    .colab-df-convert {\n",
              "      background-color: #E8F0FE;\n",
              "      border: none;\n",
              "      border-radius: 50%;\n",
              "      cursor: pointer;\n",
              "      display: none;\n",
              "      fill: #1967D2;\n",
              "      height: 32px;\n",
              "      padding: 0 0 0 0;\n",
              "      width: 32px;\n",
              "    }\n",
              "\n",
              "    .colab-df-convert:hover {\n",
              "      background-color: #E2EBFA;\n",
              "      box-shadow: 0px 1px 2px rgba(60, 64, 67, 0.3), 0px 1px 3px 1px rgba(60, 64, 67, 0.15);\n",
              "      fill: #174EA6;\n",
              "    }\n",
              "\n",
              "    [theme=dark] .colab-df-convert {\n",
              "      background-color: #3B4455;\n",
              "      fill: #D2E3FC;\n",
              "    }\n",
              "\n",
              "    [theme=dark] .colab-df-convert:hover {\n",
              "      background-color: #434B5C;\n",
              "      box-shadow: 0px 1px 3px 1px rgba(0, 0, 0, 0.15);\n",
              "      filter: drop-shadow(0px 1px 2px rgba(0, 0, 0, 0.3));\n",
              "      fill: #FFFFFF;\n",
              "    }\n",
              "  </style>\n",
              "\n",
              "      <script>\n",
              "        const buttonEl =\n",
              "          document.querySelector('#df-7509e34c-a869-4471-a7a7-2ea9c2c04ffd button.colab-df-convert');\n",
              "        buttonEl.style.display =\n",
              "          google.colab.kernel.accessAllowed ? 'block' : 'none';\n",
              "\n",
              "        async function convertToInteractive(key) {\n",
              "          const element = document.querySelector('#df-7509e34c-a869-4471-a7a7-2ea9c2c04ffd');\n",
              "          const dataTable =\n",
              "            await google.colab.kernel.invokeFunction('convertToInteractive',\n",
              "                                                     [key], {});\n",
              "          if (!dataTable) return;\n",
              "\n",
              "          const docLinkHtml = 'Like what you see? Visit the ' +\n",
              "            '<a target=\"_blank\" href=https://colab.research.google.com/notebooks/data_table.ipynb>data table notebook</a>'\n",
              "            + ' to learn more about interactive tables.';\n",
              "          element.innerHTML = '';\n",
              "          dataTable['output_type'] = 'display_data';\n",
              "          await google.colab.output.renderOutput(dataTable, element);\n",
              "          const docLink = document.createElement('div');\n",
              "          docLink.innerHTML = docLinkHtml;\n",
              "          element.appendChild(docLink);\n",
              "        }\n",
              "      </script>\n",
              "    </div>\n",
              "  </div>\n",
              "  "
            ]
          },
          "metadata": {},
          "execution_count": 22
        }
      ],
      "source": [
        "# Add labels to df\n",
        "df['label_0'] = df[0].apply(label_question)\n",
        "df['label_1'] = df[1].apply(label_question)\n",
        "\n",
        "df"
      ]
    },
    {
      "cell_type": "code",
      "source": [
        "def label(label_0, label_1):\n",
        "  return 1 if label_0 == label_1 else 0"
      ],
      "metadata": {
        "id": "2fhbTUGKWaok"
      },
      "id": "2fhbTUGKWaok",
      "execution_count": 23,
      "outputs": []
    },
    {
      "cell_type": "code",
      "source": [
        "df['y_true'] = df.apply(lambda x: label(x['label_0'], x['label_1']), axis=1)"
      ],
      "metadata": {
        "id": "UnWR7-eFW28R"
      },
      "id": "UnWR7-eFW28R",
      "execution_count": 24,
      "outputs": []
    },
    {
      "cell_type": "code",
      "execution_count": 25,
      "id": "05b55db6",
      "metadata": {
        "id": "05b55db6"
      },
      "outputs": [],
      "source": [
        "df.to_pickle('question_pairs.pkl') # Export data as pkl file"
      ]
    },
    {
      "cell_type": "markdown",
      "id": "b64e8390",
      "metadata": {
        "id": "b64e8390"
      },
      "source": [
        "## EDA\n",
        "Let's check what our training data looks like with a count plot of words"
      ]
    },
    {
      "cell_type": "code",
      "execution_count": 26,
      "id": "88454dc5",
      "metadata": {
        "colab": {
          "base_uri": "https://localhost:8080/"
        },
        "id": "88454dc5",
        "outputId": "b3857f84-0fea-4ed2-af3b-c9bf76bd8b8c"
      },
      "outputs": [
        {
          "output_type": "execute_result",
          "data": {
            "text/plain": [
              "0      None\n",
              "1      None\n",
              "2      None\n",
              "3      None\n",
              "4      None\n",
              "       ... \n",
              "350    None\n",
              "351    None\n",
              "352    None\n",
              "353    None\n",
              "354    None\n",
              "Name: Question, Length: 355, dtype: object"
            ]
          },
          "metadata": {},
          "execution_count": 26
        }
      ],
      "source": [
        "words = []\n",
        "\n",
        "def add_words(sent):\n",
        "    for i in sent.split(): words.append(i)\n",
        "    \n",
        "data['Question'].apply(add_words)"
      ]
    },
    {
      "cell_type": "code",
      "execution_count": 27,
      "id": "b463da47",
      "metadata": {
        "colab": {
          "base_uri": "https://localhost:8080/",
          "height": 424
        },
        "id": "b463da47",
        "outputId": "834e2bf0-52ea-4801-b972-47de256470e3"
      },
      "outputs": [
        {
          "output_type": "execute_result",
          "data": {
            "text/plain": [
              "                0\n",
              "0           first\n",
              "1          opened\n",
              "2          opened\n",
              "3      originally\n",
              "4         founded\n",
              "..            ...\n",
              "914          best\n",
              "915         thing\n",
              "916         offer\n",
              "917          part\n",
              "918  pennsylvania\n",
              "\n",
              "[919 rows x 1 columns]"
            ],
            "text/html": [
              "\n",
              "  <div id=\"df-05bd1378-c8ae-428f-b47e-3796e5b80b9c\">\n",
              "    <div class=\"colab-df-container\">\n",
              "      <div>\n",
              "<style scoped>\n",
              "    .dataframe tbody tr th:only-of-type {\n",
              "        vertical-align: middle;\n",
              "    }\n",
              "\n",
              "    .dataframe tbody tr th {\n",
              "        vertical-align: top;\n",
              "    }\n",
              "\n",
              "    .dataframe thead th {\n",
              "        text-align: right;\n",
              "    }\n",
              "</style>\n",
              "<table border=\"1\" class=\"dataframe\">\n",
              "  <thead>\n",
              "    <tr style=\"text-align: right;\">\n",
              "      <th></th>\n",
              "      <th>0</th>\n",
              "    </tr>\n",
              "  </thead>\n",
              "  <tbody>\n",
              "    <tr>\n",
              "      <th>0</th>\n",
              "      <td>first</td>\n",
              "    </tr>\n",
              "    <tr>\n",
              "      <th>1</th>\n",
              "      <td>opened</td>\n",
              "    </tr>\n",
              "    <tr>\n",
              "      <th>2</th>\n",
              "      <td>opened</td>\n",
              "    </tr>\n",
              "    <tr>\n",
              "      <th>3</th>\n",
              "      <td>originally</td>\n",
              "    </tr>\n",
              "    <tr>\n",
              "      <th>4</th>\n",
              "      <td>founded</td>\n",
              "    </tr>\n",
              "    <tr>\n",
              "      <th>...</th>\n",
              "      <td>...</td>\n",
              "    </tr>\n",
              "    <tr>\n",
              "      <th>914</th>\n",
              "      <td>best</td>\n",
              "    </tr>\n",
              "    <tr>\n",
              "      <th>915</th>\n",
              "      <td>thing</td>\n",
              "    </tr>\n",
              "    <tr>\n",
              "      <th>916</th>\n",
              "      <td>offer</td>\n",
              "    </tr>\n",
              "    <tr>\n",
              "      <th>917</th>\n",
              "      <td>part</td>\n",
              "    </tr>\n",
              "    <tr>\n",
              "      <th>918</th>\n",
              "      <td>pennsylvania</td>\n",
              "    </tr>\n",
              "  </tbody>\n",
              "</table>\n",
              "<p>919 rows × 1 columns</p>\n",
              "</div>\n",
              "      <button class=\"colab-df-convert\" onclick=\"convertToInteractive('df-05bd1378-c8ae-428f-b47e-3796e5b80b9c')\"\n",
              "              title=\"Convert this dataframe to an interactive table.\"\n",
              "              style=\"display:none;\">\n",
              "        \n",
              "  <svg xmlns=\"http://www.w3.org/2000/svg\" height=\"24px\"viewBox=\"0 0 24 24\"\n",
              "       width=\"24px\">\n",
              "    <path d=\"M0 0h24v24H0V0z\" fill=\"none\"/>\n",
              "    <path d=\"M18.56 5.44l.94 2.06.94-2.06 2.06-.94-2.06-.94-.94-2.06-.94 2.06-2.06.94zm-11 1L8.5 8.5l.94-2.06 2.06-.94-2.06-.94L8.5 2.5l-.94 2.06-2.06.94zm10 10l.94 2.06.94-2.06 2.06-.94-2.06-.94-.94-2.06-.94 2.06-2.06.94z\"/><path d=\"M17.41 7.96l-1.37-1.37c-.4-.4-.92-.59-1.43-.59-.52 0-1.04.2-1.43.59L10.3 9.45l-7.72 7.72c-.78.78-.78 2.05 0 2.83L4 21.41c.39.39.9.59 1.41.59.51 0 1.02-.2 1.41-.59l7.78-7.78 2.81-2.81c.8-.78.8-2.07 0-2.86zM5.41 20L4 18.59l7.72-7.72 1.47 1.35L5.41 20z\"/>\n",
              "  </svg>\n",
              "      </button>\n",
              "      \n",
              "  <style>\n",
              "    .colab-df-container {\n",
              "      display:flex;\n",
              "      flex-wrap:wrap;\n",
              "      gap: 12px;\n",
              "    }\n",
              "\n",
              "    .colab-df-convert {\n",
              "      background-color: #E8F0FE;\n",
              "      border: none;\n",
              "      border-radius: 50%;\n",
              "      cursor: pointer;\n",
              "      display: none;\n",
              "      fill: #1967D2;\n",
              "      height: 32px;\n",
              "      padding: 0 0 0 0;\n",
              "      width: 32px;\n",
              "    }\n",
              "\n",
              "    .colab-df-convert:hover {\n",
              "      background-color: #E2EBFA;\n",
              "      box-shadow: 0px 1px 2px rgba(60, 64, 67, 0.3), 0px 1px 3px 1px rgba(60, 64, 67, 0.15);\n",
              "      fill: #174EA6;\n",
              "    }\n",
              "\n",
              "    [theme=dark] .colab-df-convert {\n",
              "      background-color: #3B4455;\n",
              "      fill: #D2E3FC;\n",
              "    }\n",
              "\n",
              "    [theme=dark] .colab-df-convert:hover {\n",
              "      background-color: #434B5C;\n",
              "      box-shadow: 0px 1px 3px 1px rgba(0, 0, 0, 0.15);\n",
              "      filter: drop-shadow(0px 1px 2px rgba(0, 0, 0, 0.3));\n",
              "      fill: #FFFFFF;\n",
              "    }\n",
              "  </style>\n",
              "\n",
              "      <script>\n",
              "        const buttonEl =\n",
              "          document.querySelector('#df-05bd1378-c8ae-428f-b47e-3796e5b80b9c button.colab-df-convert');\n",
              "        buttonEl.style.display =\n",
              "          google.colab.kernel.accessAllowed ? 'block' : 'none';\n",
              "\n",
              "        async function convertToInteractive(key) {\n",
              "          const element = document.querySelector('#df-05bd1378-c8ae-428f-b47e-3796e5b80b9c');\n",
              "          const dataTable =\n",
              "            await google.colab.kernel.invokeFunction('convertToInteractive',\n",
              "                                                     [key], {});\n",
              "          if (!dataTable) return;\n",
              "\n",
              "          const docLinkHtml = 'Like what you see? Visit the ' +\n",
              "            '<a target=\"_blank\" href=https://colab.research.google.com/notebooks/data_table.ipynb>data table notebook</a>'\n",
              "            + ' to learn more about interactive tables.';\n",
              "          element.innerHTML = '';\n",
              "          dataTable['output_type'] = 'display_data';\n",
              "          await google.colab.output.renderOutput(dataTable, element);\n",
              "          const docLink = document.createElement('div');\n",
              "          docLink.innerHTML = docLinkHtml;\n",
              "          element.appendChild(docLink);\n",
              "        }\n",
              "      </script>\n",
              "    </div>\n",
              "  </div>\n",
              "  "
            ]
          },
          "metadata": {},
          "execution_count": 27
        }
      ],
      "source": [
        "words_df = pd.DataFrame(words)\n",
        "\n",
        "words_df"
      ]
    },
    {
      "cell_type": "code",
      "execution_count": 28,
      "id": "8e53c5a1",
      "metadata": {
        "id": "8e53c5a1",
        "outputId": "815c71de-4d7d-4827-af70-4e2b8e9cefe9",
        "colab": {
          "base_uri": "https://localhost:8080/",
          "height": 296
        }
      },
      "outputs": [
        {
          "output_type": "execute_result",
          "data": {
            "text/plain": [
              "<matplotlib.axes._subplots.AxesSubplot at 0x7f1a33061b10>"
            ]
          },
          "metadata": {},
          "execution_count": 28
        },
        {
          "output_type": "display_data",
          "data": {
            "text/plain": [
              "<Figure size 432x288 with 1 Axes>"
            ],
            "image/png": "[encoded data removed]"
          },
          "metadata": {
            "needs_background": "light"
          }
        }
      ],
      "source": [
        "sns.countplot(data=words_df, x=0)"
      ]
    },
    {
      "cell_type": "markdown",
      "id": "969f1ede",
      "metadata": {
        "id": "969f1ede"
      },
      "source": [
        "The counts do not seem to be drastically biased"
      ]
    },
    {
      "cell_type": "markdown",
      "id": "7c7b0619",
      "metadata": {
        "id": "7c7b0619"
      },
      "source": [
        "## Embedding Setup"
      ]
    },
    {
      "cell_type": "code",
      "execution_count": 30,
      "id": "12a0d8d9",
      "metadata": {
        "colab": {
          "base_uri": "https://localhost:8080/"
        },
        "id": "12a0d8d9",
        "outputId": "3c1e2ef1-99c8-4653-d4d5-7bb9de20f08a"
      },
      "outputs": [
        {
          "output_type": "stream",
          "name": "stdout",
          "text": [
            "Found 400000 word vectors.\n"
          ]
        }
      ],
      "source": [
        "#https://blog.keras.io/using-pre-trained-word-embeddings-in-a-keras-model.html\n",
        "embeddings_index = {}\n",
        "f = open('glove.6B.300d.txt')\n",
        "for line in f:\n",
        "    values = line.split()\n",
        "    word = values[0]\n",
        "    coefs = np.asarray(values[1:], dtype='float32')\n",
        "    embeddings_index[word] = coefs\n",
        "f.close()\n",
        "\n",
        "print('Found %s word vectors.' % len(embeddings_index))"
      ]
    },
    {
      "cell_type": "code",
      "execution_count": 31,
      "id": "9a8fddb4",
      "metadata": {
        "id": "9a8fddb4"
      },
      "outputs": [],
      "source": [
        "df['text'] = df[[0,1]].apply(lambda x:str(x[0])+\" \"+str(x[1]), axis=1)"
      ]
    },
    {
      "cell_type": "code",
      "execution_count": 32,
      "id": "9ae932b4",
      "metadata": {
        "id": "9ae932b4"
      },
      "outputs": [],
      "source": [
        "from keras.preprocessing.text import Tokenizer"
      ]
    },
    {
      "cell_type": "code",
      "execution_count": 65,
      "id": "4d899c13",
      "metadata": {
        "scrolled": true,
        "id": "4d899c13"
      },
      "outputs": [],
      "source": [
        "t = Tokenizer()\n",
        "t.fit_on_texts(df['text'].values)"
      ]
    },
    {
      "cell_type": "code",
      "execution_count": 34,
      "id": "3ac07019",
      "metadata": {
        "colab": {
          "base_uri": "https://localhost:8080/"
        },
        "id": "3ac07019",
        "outputId": "94815f9f-0eea-48a1-adc4-42fcf7c15bb9"
      },
      "outputs": [
        {
          "output_type": "stream",
          "name": "stdout",
          "text": [
            "Loaded 400000 word vectors.\n"
          ]
        }
      ],
      "source": [
        "not_present_list = []\n",
        "vocab_size = len(t.word_index) + 1\n",
        "print('Loaded %s word vectors.' % len(embeddings_index))\n",
        "embedding_matrix = np.zeros((vocab_size, len(embeddings_index['no'])))\n",
        "for word, i in t.word_index.items():\n",
        "    if word in embeddings_index.keys():\n",
        "        embedding_vector = embeddings_index.get(word)\n",
        "    else:\n",
        "        not_present_list.append(word)\n",
        "    if embedding_vector is not None:\n",
        "        embedding_matrix[i] = embedding_vector\n",
        "    else:\n",
        "        embedding_matrix[i] = np.zeros(300)"
      ]
    },
    {
      "cell_type": "code",
      "execution_count": 35,
      "id": "736726a0",
      "metadata": {
        "colab": {
          "base_uri": "https://localhost:8080/"
        },
        "id": "736726a0",
        "outputId": "0bcc4400-d327-4ba7-d6d2-ead985a21af7"
      },
      "outputs": [
        {
          "output_type": "execute_result",
          "data": {
            "text/plain": [
              "(208, 300)"
            ]
          },
          "metadata": {},
          "execution_count": 35
        }
      ],
      "source": [
        "embedding_matrix.shape"
      ]
    },
    {
      "cell_type": "code",
      "source": [
        "embedding_matrix"
      ],
      "metadata": {
        "colab": {
          "base_uri": "https://localhost:8080/"
        },
        "id": "td_raUtIYJ9H",
        "outputId": "65ebe6fd-4dd8-4680-bf68-db65d613f2e8"
      },
      "id": "td_raUtIYJ9H",
      "execution_count": 36,
      "outputs": [
        {
          "output_type": "execute_result",
          "data": {
            "text/plain": [
              "array([[ 0.        ,  0.        ,  0.        , ...,  0.        ,\n",
              "         0.        ,  0.        ],\n",
              "       [-0.45381001, -0.0073266 ,  0.27498001, ..., -0.32387   ,\n",
              "        -0.25544   , -0.19268   ],\n",
              "       [-0.15507001,  0.28422001,  0.31191   , ..., -0.54562002,\n",
              "        -0.14735   , -0.31492999],\n",
              "       ...,\n",
              "       [-0.1724    , -0.44104001, -0.13102999, ..., -0.22135   ,\n",
              "         0.33502999, -0.055936  ],\n",
              "       [-0.1724    , -0.44104001, -0.13102999, ..., -0.22135   ,\n",
              "         0.33502999, -0.055936  ],\n",
              "       [-0.17981   , -0.26750001, -0.17547999, ..., -0.20095   ,\n",
              "        -0.16429   , -0.36576   ]])"
            ]
          },
          "metadata": {},
          "execution_count": 36
        }
      ]
    },
    {
      "cell_type": "code",
      "source": [
        "len(t.word_index)"
      ],
      "metadata": {
        "colab": {
          "base_uri": "https://localhost:8080/"
        },
        "id": "dhxSuimYYRYW",
        "outputId": "9a18f2b1-6199-4b72-9c1d-8bde5624a175"
      },
      "id": "dhxSuimYYRYW",
      "execution_count": 37,
      "outputs": [
        {
          "output_type": "execute_result",
          "data": {
            "text/plain": [
              "207"
            ]
          },
          "metadata": {},
          "execution_count": 37
        }
      ]
    },
    {
      "cell_type": "code",
      "source": [
        "import pickle"
      ],
      "metadata": {
        "id": "VrnttXcXY0Z6"
      },
      "id": "VrnttXcXY0Z6",
      "execution_count": 38,
      "outputs": []
    },
    {
      "cell_type": "code",
      "source": [
        "with open('embeddings_index.pkl', 'wb') as f:\n",
        "    pickle.dump(embeddings_index, f)"
      ],
      "metadata": {
        "id": "n5vS4o4xY5wb"
      },
      "id": "n5vS4o4xY5wb",
      "execution_count": 39,
      "outputs": []
    },
    {
      "cell_type": "code",
      "source": [
        "with open('embedding_matrix.pkl', 'wb') as f:\n",
        "    pickle.dump(embedding_matrix, f)"
      ],
      "metadata": {
        "id": "to3CJvmaYgWd"
      },
      "id": "to3CJvmaYgWd",
      "execution_count": 40,
      "outputs": []
    },
    {
      "cell_type": "code",
      "source": [
        "with open('tokenizer.pkl', 'wb') as f:\n",
        "    pickle.dump(t, f)"
      ],
      "metadata": {
        "id": "lR9wvIz4OjHB"
      },
      "id": "lR9wvIz4OjHB",
      "execution_count": 96,
      "outputs": []
    },
    {
      "cell_type": "code",
      "source": [
        "df"
      ],
      "metadata": {
        "colab": {
          "base_uri": "https://localhost:8080/",
          "height": 424
        },
        "id": "f0Q4qiuzd7E5",
        "outputId": "79d27cc1-c5ee-4fbf-dad3-53f1d680f70a"
      },
      "id": "f0Q4qiuzd7E5",
      "execution_count": 41,
      "outputs": [
        {
          "output_type": "execute_result",
          "data": {
            "text/plain": [
              "                       0                   1  label_0  label_1  y_true  \\\n",
              "0           first opened              opened        1        1       1   \n",
              "1           first opened  originally founded        1        1       1   \n",
              "2           first opened             founded        1        1       1   \n",
              "3           first opened  originally founded        1        1       1   \n",
              "4           first opened             founded        1        1       1   \n",
              "...                  ...                 ...      ...      ...     ...   \n",
              "62830        year opened    best thing offer        1       12       0   \n",
              "62831        year opened   part pennsylvania        1        3       0   \n",
              "62832  officially opened    best thing offer        1       12       0   \n",
              "62833  officially opened   part pennsylvania        1        3       0   \n",
              "62834   best thing offer   part pennsylvania       12        3       0   \n",
              "\n",
              "                                      text  \n",
              "0                      first opened opened  \n",
              "1          first opened originally founded  \n",
              "2                     first opened founded  \n",
              "3          first opened originally founded  \n",
              "4                     first opened founded  \n",
              "...                                    ...  \n",
              "62830         year opened best thing offer  \n",
              "62831        year opened part pennsylvania  \n",
              "62832   officially opened best thing offer  \n",
              "62833  officially opened part pennsylvania  \n",
              "62834   best thing offer part pennsylvania  \n",
              "\n",
              "[62835 rows x 6 columns]"
            ],
            "text/html": [
              "\n",
              "  <div id=\"df-fe079107-1d47-43af-ac19-225696346dd2\">\n",
              "    <div class=\"colab-df-container\">\n",
              "      <div>\n",
              "<style scoped>\n",
              "    .dataframe tbody tr th:only-of-type {\n",
              "        vertical-align: middle;\n",
              "    }\n",
              "\n",
              "    .dataframe tbody tr th {\n",
              "        vertical-align: top;\n",
              "    }\n",
              "\n",
              "    .dataframe thead th {\n",
              "        text-align: right;\n",
              "    }\n",
              "</style>\n",
              "<table border=\"1\" class=\"dataframe\">\n",
              "  <thead>\n",
              "    <tr style=\"text-align: right;\">\n",
              "      <th></th>\n",
              "      <th>0</th>\n",
              "      <th>1</th>\n",
              "      <th>label_0</th>\n",
              "      <th>label_1</th>\n",
              "      <th>y_true</th>\n",
              "      <th>text</th>\n",
              "    </tr>\n",
              "  </thead>\n",
              "  <tbody>\n",
              "    <tr>\n",
              "      <th>0</th>\n",
              "      <td>first opened</td>\n",
              "      <td>opened</td>\n",
              "      <td>1</td>\n",
              "      <td>1</td>\n",
              "      <td>1</td>\n",
              "      <td>first opened opened</td>\n",
              "    </tr>\n",
              "    <tr>\n",
              "      <th>1</th>\n",
              "      <td>first opened</td>\n",
              "      <td>originally founded</td>\n",
              "      <td>1</td>\n",
              "      <td>1</td>\n",
              "      <td>1</td>\n",
              "      <td>first opened originally founded</td>\n",
              "    </tr>\n",
              "    <tr>\n",
              "      <th>2</th>\n",
              "      <td>first opened</td>\n",
              "      <td>founded</td>\n",
              "      <td>1</td>\n",
              "      <td>1</td>\n",
              "      <td>1</td>\n",
              "      <td>first opened founded</td>\n",
              "    </tr>\n",
              "    <tr>\n",
              "      <th>3</th>\n",
              "      <td>first opened</td>\n",
              "      <td>originally founded</td>\n",
              "      <td>1</td>\n",
              "      <td>1</td>\n",
              "      <td>1</td>\n",
              "      <td>first opened originally founded</td>\n",
              "    </tr>\n",
              "    <tr>\n",
              "      <th>4</th>\n",
              "      <td>first opened</td>\n",
              "      <td>founded</td>\n",
              "      <td>1</td>\n",
              "      <td>1</td>\n",
              "      <td>1</td>\n",
              "      <td>first opened founded</td>\n",
              "    </tr>\n",
              "    <tr>\n",
              "      <th>...</th>\n",
              "      <td>...</td>\n",
              "      <td>...</td>\n",
              "      <td>...</td>\n",
              "      <td>...</td>\n",
              "      <td>...</td>\n",
              "      <td>...</td>\n",
              "    </tr>\n",
              "    <tr>\n",
              "      <th>62830</th>\n",
              "      <td>year opened</td>\n",
              "      <td>best thing offer</td>\n",
              "      <td>1</td>\n",
              "      <td>12</td>\n",
              "      <td>0</td>\n",
              "      <td>year opened best thing offer</td>\n",
              "    </tr>\n",
              "    <tr>\n",
              "      <th>62831</th>\n",
              "      <td>year opened</td>\n",
              "      <td>part pennsylvania</td>\n",
              "      <td>1</td>\n",
              "      <td>3</td>\n",
              "      <td>0</td>\n",
              "      <td>year opened part pennsylvania</td>\n",
              "    </tr>\n",
              "    <tr>\n",
              "      <th>62832</th>\n",
              "      <td>officially opened</td>\n",
              "      <td>best thing offer</td>\n",
              "      <td>1</td>\n",
              "      <td>12</td>\n",
              "      <td>0</td>\n",
              "      <td>officially opened best thing offer</td>\n",
              "    </tr>\n",
              "    <tr>\n",
              "      <th>62833</th>\n",
              "      <td>officially opened</td>\n",
              "      <td>part pennsylvania</td>\n",
              "      <td>1</td>\n",
              "      <td>3</td>\n",
              "      <td>0</td>\n",
              "      <td>officially opened part pennsylvania</td>\n",
              "    </tr>\n",
              "    <tr>\n",
              "      <th>62834</th>\n",
              "      <td>best thing offer</td>\n",
              "      <td>part pennsylvania</td>\n",
              "      <td>12</td>\n",
              "      <td>3</td>\n",
              "      <td>0</td>\n",
              "      <td>best thing offer part pennsylvania</td>\n",
              "    </tr>\n",
              "  </tbody>\n",
              "</table>\n",
              "<p>62835 rows × 6 columns</p>\n",
              "</div>\n",
              "      <button class=\"colab-df-convert\" onclick=\"convertToInteractive('df-fe079107-1d47-43af-ac19-225696346dd2')\"\n",
              "              title=\"Convert this dataframe to an interactive table.\"\n",
              "              style=\"display:none;\">\n",
              "        \n",
              "  <svg xmlns=\"http://www.w3.org/2000/svg\" height=\"24px\"viewBox=\"0 0 24 24\"\n",
              "       width=\"24px\">\n",
              "    <path d=\"M0 0h24v24H0V0z\" fill=\"none\"/>\n",
              "    <path d=\"M18.56 5.44l.94 2.06.94-2.06 2.06-.94-2.06-.94-.94-2.06-.94 2.06-2.06.94zm-11 1L8.5 8.5l.94-2.06 2.06-.94-2.06-.94L8.5 2.5l-.94 2.06-2.06.94zm10 10l.94 2.06.94-2.06 2.06-.94-2.06-.94-.94-2.06-.94 2.06-2.06.94z\"/><path d=\"M17.41 7.96l-1.37-1.37c-.4-.4-.92-.59-1.43-.59-.52 0-1.04.2-1.43.59L10.3 9.45l-7.72 7.72c-.78.78-.78 2.05 0 2.83L4 21.41c.39.39.9.59 1.41.59.51 0 1.02-.2 1.41-.59l7.78-7.78 2.81-2.81c.8-.78.8-2.07 0-2.86zM5.41 20L4 18.59l7.72-7.72 1.47 1.35L5.41 20z\"/>\n",
              "  </svg>\n",
              "      </button>\n",
              "      \n",
              "  <style>\n",
              "    .colab-df-container {\n",
              "      display:flex;\n",
              "      flex-wrap:wrap;\n",
              "      gap: 12px;\n",
              "    }\n",
              "\n",
              "    .colab-df-convert {\n",
              "      background-color: #E8F0FE;\n",
              "      border: none;\n",
              "      border-radius: 50%;\n",
              "      cursor: pointer;\n",
              "      display: none;\n",
              "      fill: #1967D2;\n",
              "      height: 32px;\n",
              "      padding: 0 0 0 0;\n",
              "      width: 32px;\n",
              "    }\n",
              "\n",
              "    .colab-df-convert:hover {\n",
              "      background-color: #E2EBFA;\n",
              "      box-shadow: 0px 1px 2px rgba(60, 64, 67, 0.3), 0px 1px 3px 1px rgba(60, 64, 67, 0.15);\n",
              "      fill: #174EA6;\n",
              "    }\n",
              "\n",
              "    [theme=dark] .colab-df-convert {\n",
              "      background-color: #3B4455;\n",
              "      fill: #D2E3FC;\n",
              "    }\n",
              "\n",
              "    [theme=dark] .colab-df-convert:hover {\n",
              "      background-color: #434B5C;\n",
              "      box-shadow: 0px 1px 3px 1px rgba(0, 0, 0, 0.15);\n",
              "      filter: drop-shadow(0px 1px 2px rgba(0, 0, 0, 0.3));\n",
              "      fill: #FFFFFF;\n",
              "    }\n",
              "  </style>\n",
              "\n",
              "      <script>\n",
              "        const buttonEl =\n",
              "          document.querySelector('#df-fe079107-1d47-43af-ac19-225696346dd2 button.colab-df-convert');\n",
              "        buttonEl.style.display =\n",
              "          google.colab.kernel.accessAllowed ? 'block' : 'none';\n",
              "\n",
              "        async function convertToInteractive(key) {\n",
              "          const element = document.querySelector('#df-fe079107-1d47-43af-ac19-225696346dd2');\n",
              "          const dataTable =\n",
              "            await google.colab.kernel.invokeFunction('convertToInteractive',\n",
              "                                                     [key], {});\n",
              "          if (!dataTable) return;\n",
              "\n",
              "          const docLinkHtml = 'Like what you see? Visit the ' +\n",
              "            '<a target=\"_blank\" href=https://colab.research.google.com/notebooks/data_table.ipynb>data table notebook</a>'\n",
              "            + ' to learn more about interactive tables.';\n",
              "          element.innerHTML = '';\n",
              "          dataTable['output_type'] = 'display_data';\n",
              "          await google.colab.output.renderOutput(dataTable, element);\n",
              "          const docLink = document.createElement('div');\n",
              "          docLink.innerHTML = docLinkHtml;\n",
              "          element.appendChild(docLink);\n",
              "        }\n",
              "      </script>\n",
              "    </div>\n",
              "  </div>\n",
              "  "
            ]
          },
          "metadata": {},
          "execution_count": 41
        }
      ]
    },
    {
      "cell_type": "code",
      "source": [
        "from sklearn.model_selection import train_test_split"
      ],
      "metadata": {
        "id": "0TahAGKceChf"
      },
      "id": "0TahAGKceChf",
      "execution_count": 42,
      "outputs": []
    },
    {
      "cell_type": "code",
      "source": [
        "X_temp, X_test, y_temp, y_test = train_test_split(df[[0, 1]], df['y_true'], test_size=0.2, random_state=101)"
      ],
      "metadata": {
        "id": "zzNH2jWQY-rU"
      },
      "id": "zzNH2jWQY-rU",
      "execution_count": 43,
      "outputs": []
    },
    {
      "cell_type": "code",
      "source": [
        "X_train, X_val, y_train, y_val = train_test_split(X_temp, y_temp, test_size=0.2, random_state=101)"
      ],
      "metadata": {
        "id": "T6pxWpdqd_Qg"
      },
      "id": "T6pxWpdqd_Qg",
      "execution_count": 44,
      "outputs": []
    },
    {
      "cell_type": "code",
      "source": [
        "print(X_train.shape)\n",
        "print(y_train.shape)\n",
        "print(X_val.shape)\n",
        "print(y_val.shape)\n",
        "print(X_test.shape)\n",
        "print(y_test.shape)"
      ],
      "metadata": {
        "colab": {
          "base_uri": "https://localhost:8080/"
        },
        "id": "5d9qnTjzeSr2",
        "outputId": "292bf14f-ce31-4fc8-c9f9-179fadca9d80"
      },
      "id": "5d9qnTjzeSr2",
      "execution_count": 45,
      "outputs": [
        {
          "output_type": "stream",
          "name": "stdout",
          "text": [
            "(40214, 2)\n",
            "(40214,)\n",
            "(10054, 2)\n",
            "(10054,)\n",
            "(12567, 2)\n",
            "(12567,)\n"
          ]
        }
      ]
    },
    {
      "cell_type": "code",
      "source": [
        "X_train.head()"
      ],
      "metadata": {
        "colab": {
          "base_uri": "https://localhost:8080/",
          "height": 206
        },
        "id": "jelTOJfneUv7",
        "outputId": "1f3678e3-1c08-4910-cb9e-a955a5049636"
      },
      "id": "jelTOJfneUv7",
      "execution_count": 46,
      "outputs": [
        {
          "output_type": "execute_result",
          "data": {
            "text/plain": [
              "                                 0                                  1\n",
              "19824                    food good                    division sports\n",
              "48356                   accredited  apply early decision early action\n",
              "56541  early action early decision       high school credits transfer\n",
              "10321          many kids classroom                         dorms like\n",
              "60588  early action early decision                             mascot"
            ],
            "text/html": [
              "\n",
              "  <div id=\"df-3a6496e2-c4d2-417f-8b64-e7d39fa65c6a\">\n",
              "    <div class=\"colab-df-container\">\n",
              "      <div>\n",
              "<style scoped>\n",
              "    .dataframe tbody tr th:only-of-type {\n",
              "        vertical-align: middle;\n",
              "    }\n",
              "\n",
              "    .dataframe tbody tr th {\n",
              "        vertical-align: top;\n",
              "    }\n",
              "\n",
              "    .dataframe thead th {\n",
              "        text-align: right;\n",
              "    }\n",
              "</style>\n",
              "<table border=\"1\" class=\"dataframe\">\n",
              "  <thead>\n",
              "    <tr style=\"text-align: right;\">\n",
              "      <th></th>\n",
              "      <th>0</th>\n",
              "      <th>1</th>\n",
              "    </tr>\n",
              "  </thead>\n",
              "  <tbody>\n",
              "    <tr>\n",
              "      <th>19824</th>\n",
              "      <td>food good</td>\n",
              "      <td>division sports</td>\n",
              "    </tr>\n",
              "    <tr>\n",
              "      <th>48356</th>\n",
              "      <td>accredited</td>\n",
              "      <td>apply early decision early action</td>\n",
              "    </tr>\n",
              "    <tr>\n",
              "      <th>56541</th>\n",
              "      <td>early action early decision</td>\n",
              "      <td>high school credits transfer</td>\n",
              "    </tr>\n",
              "    <tr>\n",
              "      <th>10321</th>\n",
              "      <td>many kids classroom</td>\n",
              "      <td>dorms like</td>\n",
              "    </tr>\n",
              "    <tr>\n",
              "      <th>60588</th>\n",
              "      <td>early action early decision</td>\n",
              "      <td>mascot</td>\n",
              "    </tr>\n",
              "  </tbody>\n",
              "</table>\n",
              "</div>\n",
              "      <button class=\"colab-df-convert\" onclick=\"convertToInteractive('df-3a6496e2-c4d2-417f-8b64-e7d39fa65c6a')\"\n",
              "              title=\"Convert this dataframe to an interactive table.\"\n",
              "              style=\"display:none;\">\n",
              "        \n",
              "  <svg xmlns=\"http://www.w3.org/2000/svg\" height=\"24px\"viewBox=\"0 0 24 24\"\n",
              "       width=\"24px\">\n",
              "    <path d=\"M0 0h24v24H0V0z\" fill=\"none\"/>\n",
              "    <path d=\"M18.56 5.44l.94 2.06.94-2.06 2.06-.94-2.06-.94-.94-2.06-.94 2.06-2.06.94zm-11 1L8.5 8.5l.94-2.06 2.06-.94-2.06-.94L8.5 2.5l-.94 2.06-2.06.94zm10 10l.94 2.06.94-2.06 2.06-.94-2.06-.94-.94-2.06-.94 2.06-2.06.94z\"/><path d=\"M17.41 7.96l-1.37-1.37c-.4-.4-.92-.59-1.43-.59-.52 0-1.04.2-1.43.59L10.3 9.45l-7.72 7.72c-.78.78-.78 2.05 0 2.83L4 21.41c.39.39.9.59 1.41.59.51 0 1.02-.2 1.41-.59l7.78-7.78 2.81-2.81c.8-.78.8-2.07 0-2.86zM5.41 20L4 18.59l7.72-7.72 1.47 1.35L5.41 20z\"/>\n",
              "  </svg>\n",
              "      </button>\n",
              "      \n",
              "  <style>\n",
              "    .colab-df-container {\n",
              "      display:flex;\n",
              "      flex-wrap:wrap;\n",
              "      gap: 12px;\n",
              "    }\n",
              "\n",
              "    .colab-df-convert {\n",
              "      background-color: #E8F0FE;\n",
              "      border: none;\n",
              "      border-radius: 50%;\n",
              "      cursor: pointer;\n",
              "      display: none;\n",
              "      fill: #1967D2;\n",
              "      height: 32px;\n",
              "      padding: 0 0 0 0;\n",
              "      width: 32px;\n",
              "    }\n",
              "\n",
              "    .colab-df-convert:hover {\n",
              "      background-color: #E2EBFA;\n",
              "      box-shadow: 0px 1px 2px rgba(60, 64, 67, 0.3), 0px 1px 3px 1px rgba(60, 64, 67, 0.15);\n",
              "      fill: #174EA6;\n",
              "    }\n",
              "\n",
              "    [theme=dark] .colab-df-convert {\n",
              "      background-color: #3B4455;\n",
              "      fill: #D2E3FC;\n",
              "    }\n",
              "\n",
              "    [theme=dark] .colab-df-convert:hover {\n",
              "      background-color: #434B5C;\n",
              "      box-shadow: 0px 1px 3px 1px rgba(0, 0, 0, 0.15);\n",
              "      filter: drop-shadow(0px 1px 2px rgba(0, 0, 0, 0.3));\n",
              "      fill: #FFFFFF;\n",
              "    }\n",
              "  </style>\n",
              "\n",
              "      <script>\n",
              "        const buttonEl =\n",
              "          document.querySelector('#df-3a6496e2-c4d2-417f-8b64-e7d39fa65c6a button.colab-df-convert');\n",
              "        buttonEl.style.display =\n",
              "          google.colab.kernel.accessAllowed ? 'block' : 'none';\n",
              "\n",
              "        async function convertToInteractive(key) {\n",
              "          const element = document.querySelector('#df-3a6496e2-c4d2-417f-8b64-e7d39fa65c6a');\n",
              "          const dataTable =\n",
              "            await google.colab.kernel.invokeFunction('convertToInteractive',\n",
              "                                                     [key], {});\n",
              "          if (!dataTable) return;\n",
              "\n",
              "          const docLinkHtml = 'Like what you see? Visit the ' +\n",
              "            '<a target=\"_blank\" href=https://colab.research.google.com/notebooks/data_table.ipynb>data table notebook</a>'\n",
              "            + ' to learn more about interactive tables.';\n",
              "          element.innerHTML = '';\n",
              "          dataTable['output_type'] = 'display_data';\n",
              "          await google.colab.output.renderOutput(dataTable, element);\n",
              "          const docLink = document.createElement('div');\n",
              "          docLink.innerHTML = docLinkHtml;\n",
              "          element.appendChild(docLink);\n",
              "        }\n",
              "      </script>\n",
              "    </div>\n",
              "  </div>\n",
              "  "
            ]
          },
          "metadata": {},
          "execution_count": 46
        }
      ]
    },
    {
      "cell_type": "code",
      "source": [
        "X_train['text'] = X_train[[0, 1]].apply(lambda x:str(x[0])+\" \"+str(x[1]), axis=1)"
      ],
      "metadata": {
        "id": "Ahg5jI9beWKf"
      },
      "id": "Ahg5jI9beWKf",
      "execution_count": 47,
      "outputs": []
    },
    {
      "cell_type": "code",
      "source": [
        "# Prepare a list of questions from each category\n",
        "questions = df.groupby('label_0').first()[0]\n",
        "questions"
      ],
      "metadata": {
        "colab": {
          "base_uri": "https://localhost:8080/"
        },
        "id": "SsG8k1W8zjtt",
        "outputId": "f9ba0a31-a1b2-4c0e-d16e-99e962acf897"
      },
      "id": "SsG8k1W8zjtt",
      "execution_count": 63,
      "outputs": [
        {
          "output_type": "execute_result",
          "data": {
            "text/plain": [
              "label_0\n",
              "1                                          first opened\n",
              "2                                  many students attend\n",
              "3                                               located\n",
              "4                                       division sports\n",
              "5                                      much cost attend\n",
              "6                                                   big\n",
              "7                               fraternities sororities\n",
              "8                                        majors popular\n",
              "9                                           big classes\n",
              "10                             professors good teachers\n",
              "11                                         start school\n",
              "12                                     somehting unique\n",
              "13                                           fun things\n",
              "14                                      acceptance rate\n",
              "15    often collaborative work group presentations r...\n",
              "16     major require independent study capstone project\n",
              "17                                 popular study abroad\n",
              "18                         whats like firstyear student\n",
              "19                                            food like\n",
              "20                                                dorms\n",
              "21                                                 wifi\n",
              "22                                     find internships\n",
              "23                                      graduation rate\n",
              "24                                       accreditations\n",
              "25                                             security\n",
              "26                                    avergae sat score\n",
              "28                                alumni network strong\n",
              "Name: 0, dtype: object"
            ]
          },
          "metadata": {},
          "execution_count": 63
        }
      ]
    },
    {
      "cell_type": "code",
      "source": [
        "with "
      ],
      "metadata": {
        "id": "q73KGuouOgoe"
      },
      "id": "q73KGuouOgoe",
      "execution_count": null,
      "outputs": []
    },
    {
      "cell_type": "code",
      "source": [
        "#t = Tokenizer()\n",
        "#t.fit_on_texts(df['text'].values)\n",
        "\n",
        "def transform_text(text):\n",
        "  d = {0: [text] * len(questions), 1: questions}\n",
        "  eval_df = pd.DataFrame(data=d)\n",
        "  eval_df[0] = eval_df[0].astype(str)\n",
        "  eval_df[1] = eval_df[1].astype(str)\n",
        "\n",
        "  eval_q1_seq = t.texts_to_sequences(eval_df[0].values)\n",
        "  eval_q2_seq = t.texts_to_sequences(eval_df[1].values)\n",
        "\n",
        "  # No valid vocabulary found\n",
        "  if len(eval_q1_seq[0]) == 0:\n",
        "    return None\n",
        "\n",
        "  len_vec = [len(sent_vec) for sent_vec in eval_q2_seq]\n",
        "  max_len = np.max(len_vec)\n",
        "\n",
        "  eval_q1_seq = pad_sequences(eval_q1_seq, maxlen=max_len, padding='post')\n",
        "  eval_q2_seq = pad_sequences(eval_q2_seq, maxlen=max_len, padding='post')\n",
        "  \n",
        "  return eval_q1_seq, eval_q2_seq\n",
        "\n",
        "transform_text('what is the best dorms to live in')"
      ],
      "metadata": {
        "colab": {
          "base_uri": "https://localhost:8080/"
        },
        "id": "cCS6bUN1pcZv",
        "outputId": "81d331bd-65d4-4667-ebaa-e19de0615b91"
      },
      "id": "cCS6bUN1pcZv",
      "execution_count": 95,
      "outputs": [
        {
          "output_type": "execute_result",
          "data": {
            "text/plain": [
              "(array([[28, 67, 68,  0,  0,  0],\n",
              "        [28, 67, 68,  0,  0,  0],\n",
              "        [28, 67, 68,  0,  0,  0],\n",
              "        [28, 67, 68,  0,  0,  0],\n",
              "        [28, 67, 68,  0,  0,  0],\n",
              "        [28, 67, 68,  0,  0,  0],\n",
              "        [28, 67, 68,  0,  0,  0],\n",
              "        [28, 67, 68,  0,  0,  0],\n",
              "        [28, 67, 68,  0,  0,  0],\n",
              "        [28, 67, 68,  0,  0,  0],\n",
              "        [28, 67, 68,  0,  0,  0],\n",
              "        [28, 67, 68,  0,  0,  0],\n",
              "        [28, 67, 68,  0,  0,  0],\n",
              "        [28, 67, 68,  0,  0,  0],\n",
              "        [28, 67, 68,  0,  0,  0],\n",
              "        [28, 67, 68,  0,  0,  0],\n",
              "        [28, 67, 68,  0,  0,  0],\n",
              "        [28, 67, 68,  0,  0,  0],\n",
              "        [28, 67, 68,  0,  0,  0],\n",
              "        [28, 67, 68,  0,  0,  0],\n",
              "        [28, 67, 68,  0,  0,  0],\n",
              "        [28, 67, 68,  0,  0,  0],\n",
              "        [28, 67, 68,  0,  0,  0],\n",
              "        [28, 67, 68,  0,  0,  0],\n",
              "        [28, 67, 68,  0,  0,  0],\n",
              "        [28, 67, 68,  0,  0,  0],\n",
              "        [28, 67, 68,  0,  0,  0]], dtype=int32),\n",
              " array([[ 95,  25,   0,   0,   0,   0],\n",
              "        [  2,   1,  53,   0,   0,   0],\n",
              "        [199,   0,   0,   0,   0,   0],\n",
              "        [ 55,  16,   0,   0,   0,   0],\n",
              "        [  4,   6,  53,   0,   0,   0],\n",
              "        [ 57,   0,   0,   0,   0,   0],\n",
              "        [101, 102,   0,   0,   0,   0],\n",
              "        [ 58,  26,   0,   0,   0,   0],\n",
              "        [ 57,  27,   0,   0,   0,   0],\n",
              "        [ 29,  37,  60,   0,   0,   0],\n",
              "        [111,   3,   0,   0,   0,   0],\n",
              "        [115, 116,   0,   0,   0,   0],\n",
              "        [ 19,  20,   0,   0,   0,   0],\n",
              "        [ 62,   7,   0,   0,   0,   0],\n",
              "        [123, 124,  21,  30, 125, 126],\n",
              "        [ 22, 127, 128,  64, 129, 130],\n",
              "        [ 26,  64, 132,   0,   0,   0],\n",
              "        [ 66,  10, 133,  24,   0,   0],\n",
              "        [ 31,  10,   0,   0,   0,   0],\n",
              "        [ 67,   0,   0,   0,   0,   0],\n",
              "        [139,   0,   0,   0,   0,   0],\n",
              "        [142, 143,   0,   0,   0,   0],\n",
              "        [ 11,   7,   0,   0,   0,   0],\n",
              "        [ 96,   0,   0,   0,   0,   0],\n",
              "        [147,   0,   0,   0,   0,   0],\n",
              "        [ 34,  97,  77,   0,   0,   0],\n",
              "        [ 92,  93,  94,   0,   0,   0]], dtype=int32))"
            ]
          },
          "metadata": {},
          "execution_count": 95
        }
      ]
    },
    {
      "cell_type": "markdown",
      "source": [
        "##Model Creation\n"
      ],
      "metadata": {
        "id": "yrrHaL0roUyp"
      },
      "id": "yrrHaL0roUyp"
    },
    {
      "cell_type": "code",
      "source": [
        "# Model imports\n",
        "import tensorflow as tf\n",
        "import keras\n",
        "import keras.backend as K\n",
        "\n",
        "from keras.preprocessing.text import Tokenizer\n",
        "from keras.preprocessing.sequence import pad_sequences\n",
        "\n",
        "from keras.layers import Input, Concatenate, Conv2D, Flatten, Dense, Embedding, LSTM\n",
        "from keras.models import Model\n",
        "from keras.regularizers import l2\n",
        "from keras.models import Sequential\n",
        "from tensorflow.keras.optimizers import Adam\n",
        "from keras.layers import Conv2D, ZeroPadding2D, Activation, Input, concatenate\n",
        "from keras.models import Model\n",
        "\n",
        "from tensorflow.keras.layers import BatchNormalization\n",
        "from keras.layers.pooling import MaxPooling2D\n",
        "from keras.layers.merge import Concatenate\n",
        "from keras.layers.core import Lambda, Flatten, Dense\n",
        "from keras.initializers import glorot_uniform\n",
        "from keras.layers import Input, Dense, Flatten, GlobalMaxPool2D, GlobalAvgPool2D, Concatenate, Multiply, Dropout, Subtract, Add, Conv2D"
      ],
      "metadata": {
        "id": "CcHUTtmSebmS"
      },
      "id": "CcHUTtmSebmS",
      "execution_count": 97,
      "outputs": []
    },
    {
      "cell_type": "code",
      "source": [
        "X_train[0] = X_train[0].astype(str)\n",
        "X_train[1] = X_train[1].astype(str)"
      ],
      "metadata": {
        "id": "UJ0mgqtiem2d"
      },
      "id": "UJ0mgqtiem2d",
      "execution_count": 98,
      "outputs": []
    },
    {
      "cell_type": "code",
      "source": [
        "X_val[0] = X_val[0].astype(str)\n",
        "X_val[1] = X_val[1].astype(str)\n",
        "\n",
        "X_test[0] = X_test[0].astype(str)\n",
        "X_test[1] = X_test[1].astype(str)"
      ],
      "metadata": {
        "id": "_0YrFSnRepgw"
      },
      "id": "_0YrFSnRepgw",
      "execution_count": 99,
      "outputs": []
    },
    {
      "cell_type": "code",
      "source": [
        "train_q1_seq = t.texts_to_sequences(X_train[0].values)\n",
        "train_q2_seq = t.texts_to_sequences(X_train[1].values)\n",
        "val_q1_seq = t.texts_to_sequences(X_val[0].values)\n",
        "val_q2_seq = t.texts_to_sequences(X_val[1].values)\n",
        "test_q1_seq = t.texts_to_sequences(X_test[0].values)\n",
        "test_q2_seq = t.texts_to_sequences(X_test[1].values)"
      ],
      "metadata": {
        "id": "wwo9tMW-evO0"
      },
      "id": "wwo9tMW-evO0",
      "execution_count": 100,
      "outputs": []
    },
    {
      "cell_type": "code",
      "source": [
        "# Perform EDA to see sentence length distributions\n",
        "len_vec = [len(sent_vec) for sent_vec in train_q1_seq]\n",
        "\n",
        "max_len = np.max(len_vec)\n",
        "max_len"
      ],
      "metadata": {
        "colab": {
          "base_uri": "https://localhost:8080/"
        },
        "id": "ifM31uUGfB5Y",
        "outputId": "db448993-a595-4ebf-bd30-7290b67299dc"
      },
      "id": "ifM31uUGfB5Y",
      "execution_count": 101,
      "outputs": [
        {
          "output_type": "execute_result",
          "data": {
            "text/plain": [
              "6"
            ]
          },
          "metadata": {},
          "execution_count": 101
        }
      ]
    },
    {
      "cell_type": "code",
      "source": [
        "sns.distplot(len_vec) # Overall, the dist plot does not seem largely skewed"
      ],
      "metadata": {
        "colab": {
          "base_uri": "https://localhost:8080/",
          "height": 337
        },
        "id": "2Z1Tr1KDfKSs",
        "outputId": "e88c7534-c034-4bc1-d159-8fa8eb309899"
      },
      "id": "2Z1Tr1KDfKSs",
      "execution_count": 102,
      "outputs": [
        {
          "output_type": "stream",
          "name": "stderr",
          "text": [
            "/usr/local/lib/python3.7/dist-packages/seaborn/distributions.py:2619: FutureWarning: `distplot` is a deprecated function and will be removed in a future version. Please adapt your code to use either `displot` (a figure-level function with similar flexibility) or `histplot` (an axes-level function for histograms).\n",
            "  warnings.warn(msg, FutureWarning)\n"
          ]
        },
        {
          "output_type": "execute_result",
          "data": {
            "text/plain": [
              "<matplotlib.axes._subplots.AxesSubplot at 0x7f19c29b0b50>"
            ]
          },
          "metadata": {},
          "execution_count": 102
        },
        {
          "output_type": "display_data",
          "data": {
            "text/plain": [
              "<Figure size 432x288 with 1 Axes>"
            ],
            "image/png": "[encoded data removed]"
          },
          "metadata": {
            "needs_background": "light"
          }
        }
      ]
    },
    {
      "cell_type": "code",
      "source": [
        "# Convert all sentences to 6 length vectors\n",
        "train_q1_seq = pad_sequences(train_q1_seq, maxlen=max_len, padding='post')\n",
        "train_q2_seq = pad_sequences(train_q2_seq, maxlen=max_len, padding='post')\n",
        "val_q1_seq = pad_sequences(val_q1_seq, maxlen=max_len, padding='post')\n",
        "val_q2_seq = pad_sequences(val_q2_seq, maxlen=max_len, padding='post')\n",
        "test_q1_seq = pad_sequences(test_q1_seq, maxlen=max_len, padding='post')\n",
        "test_q2_seq = pad_sequences(test_q2_seq, maxlen=max_len, padding='post')"
      ],
      "metadata": {
        "id": "0v6dwVSBhZQ4"
      },
      "id": "0v6dwVSBhZQ4",
      "execution_count": 153,
      "outputs": []
    },
    {
      "cell_type": "code",
      "source": [
        "def cosine_distance(vests):\n",
        "    x, y = vests\n",
        "    x = K.l2_normalize(x, axis=-1)\n",
        "    y = K.l2_normalize(y, axis=-1)\n",
        "    return -K.mean(x * y, axis=-1, keepdims=True)\n",
        "\n",
        "def cos_dist_output_shape(shapes):\n",
        "    shape1, shape2 = shapes\n",
        "    return (shape1[0],1)"
      ],
      "metadata": {
        "id": "MPHjEfqme0R0"
      },
      "id": "MPHjEfqme0R0",
      "execution_count": 154,
      "outputs": []
    },
    {
      "cell_type": "code",
      "source": [
        "input_1 = Input(shape=(train_q1_seq.shape[1],))\n",
        "input_2 = Input(shape=(train_q2_seq.shape[1],))\n",
        "\n",
        "\n",
        "common_embed = Embedding(name=\"synopsis_embedd\", input_dim=len(t.word_index)+1, \n",
        "                       output_dim=len(embeddings_index['no']), weights=[embedding_matrix], \n",
        "                       input_length=train_q1_seq.shape[1], trainable=False)\n",
        "lstm_1 = common_embed(input_1)\n",
        "lstm_2 = common_embed(input_2)\n",
        "\n",
        "\n",
        "common_lstm = LSTM(64, return_sequences=True, activation=\"relu\")\n",
        "vector_1 = common_lstm(lstm_1)\n",
        "vector_1 = Flatten()(vector_1)\n",
        "\n",
        "vector_2 = common_lstm(lstm_2)\n",
        "vector_2 = Flatten()(vector_2)\n",
        "\n",
        "x3 = Subtract()([vector_1, vector_2])\n",
        "x3 = Multiply()([x3, x3])\n",
        "\n",
        "x1_ = Multiply()([vector_1, vector_1])\n",
        "x2_ = Multiply()([vector_2, vector_2])\n",
        "x4 = Subtract()([x1_, x2_])\n",
        "    \n",
        "    #https://stackoverflow.com/a/51003359/10650182\n",
        "x5 = Lambda(cosine_distance, output_shape=cos_dist_output_shape)([vector_1, vector_2])\n",
        "    \n",
        "conc = Concatenate(axis=-1)([x5,x4, x3])\n",
        "\n",
        "x = Dense(100, activation=\"relu\", name='conc_layer')(conc)\n",
        "x = Dropout(0.01)(x)\n",
        "out = Dense(1, activation=\"sigmoid\", name='out')(x)\n",
        "\n",
        "model = Model([input_1, input_2], out)\n",
        "\n",
        "model.compile(loss=\"binary_crossentropy\", metrics=['acc', tf.keras.metrics.AUC()], optimizer=Adam(0.00001))"
      ],
      "metadata": {
        "id": "0d_4CFD_grGe"
      },
      "id": "0d_4CFD_grGe",
      "execution_count": 155,
      "outputs": []
    },
    {
      "cell_type": "code",
      "source": [
        "# Check model summary to see overview of model\n",
        "model.summary()"
      ],
      "metadata": {
        "colab": {
          "base_uri": "https://localhost:8080/"
        },
        "id": "o5PXOZ3shEIi",
        "outputId": "c5d6b394-9e26-47e6-a0a2-487cae2c7019"
      },
      "id": "o5PXOZ3shEIi",
      "execution_count": 156,
      "outputs": [
        {
          "output_type": "stream",
          "name": "stdout",
          "text": [
            "Model: \"model_1\"\n",
            "__________________________________________________________________________________________________\n",
            " Layer (type)                   Output Shape         Param #     Connected to                     \n",
            "==================================================================================================\n",
            " input_3 (InputLayer)           [(None, 6)]          0           []                               \n",
            "                                                                                                  \n",
            " input_4 (InputLayer)           [(None, 6)]          0           []                               \n",
            "                                                                                                  \n",
            " synopsis_embedd (Embedding)    (None, 6, 300)       62400       ['input_3[0][0]',                \n",
            "                                                                  'input_4[0][0]']                \n",
            "                                                                                                  \n",
            " lstm_1 (LSTM)                  (None, 6, 64)        93440       ['synopsis_embedd[0][0]',        \n",
            "                                                                  'synopsis_embedd[1][0]']        \n",
            "                                                                                                  \n",
            " flatten_2 (Flatten)            (None, 384)          0           ['lstm_1[0][0]']                 \n",
            "                                                                                                  \n",
            " flatten_3 (Flatten)            (None, 384)          0           ['lstm_1[1][0]']                 \n",
            "                                                                                                  \n",
            " multiply_4 (Multiply)          (None, 384)          0           ['flatten_2[0][0]',              \n",
            "                                                                  'flatten_2[0][0]']              \n",
            "                                                                                                  \n",
            " multiply_5 (Multiply)          (None, 384)          0           ['flatten_3[0][0]',              \n",
            "                                                                  'flatten_3[0][0]']              \n",
            "                                                                                                  \n",
            " subtract_2 (Subtract)          (None, 384)          0           ['flatten_2[0][0]',              \n",
            "                                                                  'flatten_3[0][0]']              \n",
            "                                                                                                  \n",
            " lambda_1 (Lambda)              (None, 1)            0           ['flatten_2[0][0]',              \n",
            "                                                                  'flatten_3[0][0]']              \n",
            "                                                                                                  \n",
            " subtract_3 (Subtract)          (None, 384)          0           ['multiply_4[0][0]',             \n",
            "                                                                  'multiply_5[0][0]']             \n",
            "                                                                                                  \n",
            " multiply_3 (Multiply)          (None, 384)          0           ['subtract_2[0][0]',             \n",
            "                                                                  'subtract_2[0][0]']             \n",
            "                                                                                                  \n",
            " concatenate_1 (Concatenate)    (None, 769)          0           ['lambda_1[0][0]',               \n",
            "                                                                  'subtract_3[0][0]',             \n",
            "                                                                  'multiply_3[0][0]']             \n",
            "                                                                                                  \n",
            " conc_layer (Dense)             (None, 100)          77000       ['concatenate_1[0][0]']          \n",
            "                                                                                                  \n",
            " dropout_1 (Dropout)            (None, 100)          0           ['conc_layer[0][0]']             \n",
            "                                                                                                  \n",
            " out (Dense)                    (None, 1)            101         ['dropout_1[0][0]']              \n",
            "                                                                                                  \n",
            "==================================================================================================\n",
            "Total params: 232,941\n",
            "Trainable params: 170,541\n",
            "Non-trainable params: 62,400\n",
            "__________________________________________________________________________________________________\n"
          ]
        }
      ]
    },
    {
      "cell_type": "code",
      "source": [
        "model.fit([train_q1_seq, train_q2_seq], y_train.values.reshape(-1,1), epochs = 10,\n",
        "          batch_size=64, validation_data=([val_q1_seq, val_q2_seq], y_val.values.reshape(-1,1)))"
      ],
      "metadata": {
        "colab": {
          "base_uri": "https://localhost:8080/"
        },
        "id": "0cG2aUidhuVy",
        "outputId": "ca55c7e0-387c-4c79-d2f7-af8b6885fa53"
      },
      "id": "0cG2aUidhuVy",
      "execution_count": 157,
      "outputs": [
        {
          "output_type": "stream",
          "name": "stdout",
          "text": [
            "Epoch 1/10\n",
            "629/629 [==============================] - 22s 28ms/step - loss: 0.5823 - acc: 0.9182 - auc_1: 0.5454 - val_loss: 0.3891 - val_acc: 0.9415 - val_auc_1: 0.6016\n",
            "Epoch 2/10\n",
            "629/629 [==============================] - 17s 27ms/step - loss: 0.2986 - acc: 0.9398 - auc_1: 0.6294 - val_loss: 0.2577 - val_acc: 0.9415 - val_auc_1: 0.6483\n",
            "Epoch 3/10\n",
            "629/629 [==============================] - 16s 26ms/step - loss: 0.2389 - acc: 0.9398 - auc_1: 0.6844 - val_loss: 0.2246 - val_acc: 0.9415 - val_auc_1: 0.6993\n",
            "Epoch 4/10\n",
            "629/629 [==============================] - 17s 27ms/step - loss: 0.2165 - acc: 0.9398 - auc_1: 0.7313 - val_loss: 0.2070 - val_acc: 0.9415 - val_auc_1: 0.7438\n",
            "Epoch 5/10\n",
            "629/629 [==============================] - 17s 27ms/step - loss: 0.2029 - acc: 0.9398 - auc_1: 0.7688 - val_loss: 0.1954 - val_acc: 0.9414 - val_auc_1: 0.7784\n",
            "Epoch 6/10\n",
            "629/629 [==============================] - 19s 31ms/step - loss: 0.1928 - acc: 0.9398 - auc_1: 0.7985 - val_loss: 0.1861 - val_acc: 0.9414 - val_auc_1: 0.8052\n",
            "Epoch 7/10\n",
            "629/629 [==============================] - 17s 28ms/step - loss: 0.1842 - acc: 0.9399 - auc_1: 0.8228 - val_loss: 0.1783 - val_acc: 0.9415 - val_auc_1: 0.8299\n",
            "Epoch 8/10\n",
            "629/629 [==============================] - 18s 28ms/step - loss: 0.1766 - acc: 0.9400 - auc_1: 0.8444 - val_loss: 0.1708 - val_acc: 0.9414 - val_auc_1: 0.8510\n",
            "Epoch 9/10\n",
            "629/629 [==============================] - 18s 29ms/step - loss: 0.1698 - acc: 0.9410 - auc_1: 0.8625 - val_loss: 0.1644 - val_acc: 0.9424 - val_auc_1: 0.8688\n",
            "Epoch 10/10\n",
            "629/629 [==============================] - 18s 28ms/step - loss: 0.1633 - acc: 0.9418 - auc_1: 0.8790 - val_loss: 0.1578 - val_acc: 0.9433 - val_auc_1: 0.8850\n"
          ]
        },
        {
          "output_type": "execute_result",
          "data": {
            "text/plain": [
              "<keras.callbacks.History at 0x7f19c16421d0>"
            ]
          },
          "metadata": {},
          "execution_count": 157
        }
      ]
    },
    {
      "cell_type": "code",
      "source": [
        "transform_text('what is the best dorms to live at')"
      ],
      "metadata": {
        "colab": {
          "base_uri": "https://localhost:8080/"
        },
        "id": "Abrb_TCwPz6W",
        "outputId": "22a42589-754d-49b2-89f3-18ced5fdcda4"
      },
      "id": "Abrb_TCwPz6W",
      "execution_count": 109,
      "outputs": [
        {
          "output_type": "execute_result",
          "data": {
            "text/plain": [
              "(array([[28, 67, 68,  0,  0,  0],\n",
              "        [28, 67, 68,  0,  0,  0],\n",
              "        [28, 67, 68,  0,  0,  0],\n",
              "        [28, 67, 68,  0,  0,  0],\n",
              "        [28, 67, 68,  0,  0,  0],\n",
              "        [28, 67, 68,  0,  0,  0],\n",
              "        [28, 67, 68,  0,  0,  0],\n",
              "        [28, 67, 68,  0,  0,  0],\n",
              "        [28, 67, 68,  0,  0,  0],\n",
              "        [28, 67, 68,  0,  0,  0],\n",
              "        [28, 67, 68,  0,  0,  0],\n",
              "        [28, 67, 68,  0,  0,  0],\n",
              "        [28, 67, 68,  0,  0,  0],\n",
              "        [28, 67, 68,  0,  0,  0],\n",
              "        [28, 67, 68,  0,  0,  0],\n",
              "        [28, 67, 68,  0,  0,  0],\n",
              "        [28, 67, 68,  0,  0,  0],\n",
              "        [28, 67, 68,  0,  0,  0],\n",
              "        [28, 67, 68,  0,  0,  0],\n",
              "        [28, 67, 68,  0,  0,  0],\n",
              "        [28, 67, 68,  0,  0,  0],\n",
              "        [28, 67, 68,  0,  0,  0],\n",
              "        [28, 67, 68,  0,  0,  0],\n",
              "        [28, 67, 68,  0,  0,  0],\n",
              "        [28, 67, 68,  0,  0,  0],\n",
              "        [28, 67, 68,  0,  0,  0],\n",
              "        [28, 67, 68,  0,  0,  0]], dtype=int32),\n",
              " array([[ 95,  25,   0,   0,   0,   0],\n",
              "        [  2,   1,  53,   0,   0,   0],\n",
              "        [199,   0,   0,   0,   0,   0],\n",
              "        [ 55,  16,   0,   0,   0,   0],\n",
              "        [  4,   6,  53,   0,   0,   0],\n",
              "        [ 57,   0,   0,   0,   0,   0],\n",
              "        [101, 102,   0,   0,   0,   0],\n",
              "        [ 58,  26,   0,   0,   0,   0],\n",
              "        [ 57,  27,   0,   0,   0,   0],\n",
              "        [ 29,  37,  60,   0,   0,   0],\n",
              "        [111,   3,   0,   0,   0,   0],\n",
              "        [115, 116,   0,   0,   0,   0],\n",
              "        [ 19,  20,   0,   0,   0,   0],\n",
              "        [ 62,   7,   0,   0,   0,   0],\n",
              "        [123, 124,  21,  30, 125, 126],\n",
              "        [ 22, 127, 128,  64, 129, 130],\n",
              "        [ 26,  64, 132,   0,   0,   0],\n",
              "        [ 66,  10, 133,  24,   0,   0],\n",
              "        [ 31,  10,   0,   0,   0,   0],\n",
              "        [ 67,   0,   0,   0,   0,   0],\n",
              "        [139,   0,   0,   0,   0,   0],\n",
              "        [142, 143,   0,   0,   0,   0],\n",
              "        [ 11,   7,   0,   0,   0,   0],\n",
              "        [ 96,   0,   0,   0,   0,   0],\n",
              "        [147,   0,   0,   0,   0,   0],\n",
              "        [ 34,  97,  77,   0,   0,   0],\n",
              "        [ 92,  93,  94,   0,   0,   0]], dtype=int32))"
            ]
          },
          "metadata": {},
          "execution_count": 109
        }
      ]
    },
    {
      "cell_type": "code",
      "source": [
        "# Predict question class\n",
        "np.argmax(model.predict(transform_text('how much does it cost to attend etown')))"
      ],
      "metadata": {
        "id": "sf-5sqTGi-06",
        "colab": {
          "base_uri": "https://localhost:8080/"
        },
        "outputId": "0cd046f4-7681-4cf6-e510-ce6d6213e2df"
      },
      "id": "sf-5sqTGi-06",
      "execution_count": 148,
      "outputs": [
        {
          "output_type": "execute_result",
          "data": {
            "text/plain": [
              "4"
            ]
          },
          "metadata": {},
          "execution_count": 148
        }
      ]
    },
    {
      "cell_type": "code",
      "source": [
        "model.save('snn.h5')"
      ],
      "metadata": {
        "id": "izjsC2R-Royp"
      },
      "id": "izjsC2R-Royp",
      "execution_count": 158,
      "outputs": []
    },
    {
      "cell_type": "code",
      "source": [
        "!zip -r /content/snn.zip /content/snn"
      ],
      "metadata": {
        "colab": {
          "base_uri": "https://localhost:8080/"
        },
        "id": "XlTTXzBUgE1Z",
        "outputId": "c175b571-27be-4320-f8dd-265383f83c94"
      },
      "id": "XlTTXzBUgE1Z",
      "execution_count": 150,
      "outputs": [
        {
          "output_type": "stream",
          "name": "stdout",
          "text": [
            "  adding: content/snn/ (stored 0%)\n",
            "  adding: content/snn/assets/ (stored 0%)\n",
            "  adding: content/snn/saved_model.pb (deflated 89%)\n",
            "  adding: content/snn/variables/ (stored 0%)\n",
            "  adding: content/snn/variables/variables.index (deflated 63%)\n",
            "  adding: content/snn/variables/variables.data-00000-of-00001 (deflated 9%)\n",
            "  adding: content/snn/keras_metadata.pb (deflated 89%)\n"
          ]
        }
      ]
    },
    {
      "cell_type": "code",
      "source": [
        "with open('question_categories.pkl', 'wb') as f:\n",
        "    pickle.dump(questions, f)"
      ],
      "metadata": {
        "id": "tHLSuO89gbqK"
      },
      "id": "tHLSuO89gbqK",
      "execution_count": 151,
      "outputs": []
    },
    {
      "cell_type": "code",
      "source": [
        ""
      ],
      "metadata": {
        "id": "gLezzKYsjv-T"
      },
      "id": "gLezzKYsjv-T",
      "execution_count": null,
      "outputs": []
    }
  ],
  "metadata": {
    "kernelspec": {
      "display_name": "Python 3 (ipykernel)",
      "language": "python",
      "name": "python3"
    },
    "language_info": {
      "codemirror_mode": {
        "name": "ipython",
        "version": 3
      },
      "file_extension": ".py",
      "mimetype": "text/x-python",
      "name": "python",
      "nbconvert_exporter": "python",
      "pygments_lexer": "ipython3",
      "version": "3.7.13"
    },
    "colab": {
      "name": "Siamese_Preparation.ipynb",
      "provenance": [],
      "collapsed_sections": []
    }
  },
  "nbformat": 4,
  "nbformat_minor": 5
}